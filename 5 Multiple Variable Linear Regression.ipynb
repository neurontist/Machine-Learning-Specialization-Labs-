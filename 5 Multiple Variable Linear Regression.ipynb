{
  "cells": [
    {
      "cell_type": "markdown",
      "metadata": {
        "id": "view-in-github",
        "colab_type": "text"
      },
      "source": [
        "<a href=\"https://colab.research.google.com/github/neurontist/Machine-Learning-Specialization-Labs-/blob/main/5%20Multiple%20Variable%20Linear%20Regression.ipynb\" target=\"_parent\"><img src=\"https://colab.research.google.com/assets/colab-badge.svg\" alt=\"Open In Colab\"/></a>"
      ]
    },
    {
      "cell_type": "markdown",
      "metadata": {
        "id": "POtQVg19YU5o"
      },
      "source": [
        "# Optional Lab: Multiple Variable Linear Regression\n",
        "\n",
        "In this lab, you will extend the data structures and previously developed routines to support multiple features. Several routines are updated making the lab appear lengthy, but it makes minor adjustments to previous routines making it quick to review.\n",
        "# Outline\n",
        "- [&nbsp;&nbsp;1.1 Goals](#toc_15456_1.1)\n",
        "- [&nbsp;&nbsp;1.2 Tools](#toc_15456_1.2)\n",
        "- [&nbsp;&nbsp;1.3 Notation](#toc_15456_1.3)\n",
        "- [2 Problem Statement](#toc_15456_2)\n",
        "- [&nbsp;&nbsp;2.1 Matrix X containing our examples](#toc_15456_2.1)\n",
        "- [&nbsp;&nbsp;2.2 Parameter vector w, b](#toc_15456_2.2)\n",
        "- [3 Model Prediction With Multiple Variables](#toc_15456_3)\n",
        "- [&nbsp;&nbsp;3.1 Single Prediction element by element](#toc_15456_3.1)\n",
        "- [&nbsp;&nbsp;3.2 Single Prediction, vector](#toc_15456_3.2)\n",
        "- [4 Compute Cost With Multiple Variables](#toc_15456_4)\n",
        "- [5 Gradient Descent With Multiple Variables](#toc_15456_5)\n",
        "- [&nbsp;&nbsp;5.1 Compute Gradient with Multiple Variables](#toc_15456_5.1)\n",
        "- [&nbsp;&nbsp;5.2 Gradient Descent With Multiple Variables](#toc_15456_5.2)\n",
        "- [6 Congratulations](#toc_15456_6)\n"
      ],
      "id": "POtQVg19YU5o"
    },
    {
      "cell_type": "markdown",
      "metadata": {
        "id": "fE3AAnXoYU5u"
      },
      "source": [
        "<a name=\"toc_15456_1.1\"></a>\n",
        "## 1.1 Goals\n",
        "- Extend our regression model  routines to support multiple features\n",
        "    - Extend data structures to support multiple features\n",
        "    - Rewrite prediction, cost and gradient routines to support multiple features\n",
        "    - Utilize NumPy `np.dot` to vectorize their implementations for speed and simplicity"
      ],
      "id": "fE3AAnXoYU5u"
    },
    {
      "cell_type": "markdown",
      "metadata": {
        "id": "89qiGSFOYU5v"
      },
      "source": [
        "<a name=\"toc_15456_1.2\"></a>\n",
        "## 1.2 Tools\n",
        "In this lab, we will make use of:\n",
        "- NumPy, a popular library for scientific computing\n",
        "- Matplotlib, a popular library for plotting data"
      ],
      "id": "89qiGSFOYU5v"
    },
    {
      "cell_type": "code",
      "execution_count": null,
      "metadata": {
        "id": "3nAYxpvWYU5w"
      },
      "outputs": [],
      "source": [
        "import copy, math\n",
        "import numpy as np\n",
        "# import matplotlib.pyplot as plt\n",
        "# plt.style.use('./deeplearning.mplstyle')\n",
        "# np.set_printoptions(precision=2)  # reduced display precision on numpy arrays"
      ],
      "id": "3nAYxpvWYU5w"
    },
    {
      "cell_type": "markdown",
      "metadata": {
        "id": "eD1xW1L2YU5x"
      },
      "source": [
        "<a name=\"toc_15456_1.3\"></a>\n",
        "## 1.3 Notation\n",
        "Here is a summary of some of the notation you will encounter, updated for multiple features.  \n",
        "\n",
        "|General <img width=70/> <br />  Notation  <img width=70/> | Description<img width=350/>| Python (if applicable) |\n",
        "|: ------------|: ------------------------------------------------------------||\n",
        "| $a$ | scalar, non bold                                                      ||\n",
        "| $\\mathbf{a}$ | vector, bold                                                 ||\n",
        "| $\\mathbf{A}$ | matrix, bold capital                                         ||\n",
        "| **Regression** |         |    |     |\n",
        "|  $\\mathbf{X}$ | training example matrix                  | `X_train` |   \n",
        "|  $\\mathbf{y}$  | training example  targets                | `y_train`\n",
        "|  $\\mathbf{x}^{(i)}$, $y^{(i)}$ | $i_{th}$Training Example | `X[i]`, `y[i]`|\n",
        "| m | number of training examples | `m`|\n",
        "| n | number of features in each example | `n`|\n",
        "|  $\\mathbf{w}$  |  parameter: weight,                       | `w`    |\n",
        "|  $b$           |  parameter: bias                                           | `b`    |     \n",
        "| $f_{\\mathbf{w},b}(\\mathbf{x}^{(i)})$ | The result of the model evaluation at $\\mathbf{x^{(i)}}$ parameterized by $\\mathbf{w},b$: $f_{\\mathbf{w},b}(\\mathbf{x}^{(i)}) = \\mathbf{w} \\cdot \\mathbf{x}^{(i)}+b$  | `f_wb` |\n"
      ],
      "id": "eD1xW1L2YU5x"
    },
    {
      "cell_type": "markdown",
      "metadata": {
        "id": "af2wPpufYU5y"
      },
      "source": [
        "<a name=\"toc_15456_2\"></a>\n",
        "# 2 Problem Statement\n",
        "\n",
        "You will use the motivating example of housing price prediction. The training dataset contains three examples with four features (size, bedrooms, floors and, age) shown in the table below.  Note that, unlike the earlier labs, size is in sqft rather than 1000 sqft. This causes an issue, which you will solve in the next lab!\n",
        "\n",
        "| Size (sqft) | Number of Bedrooms  | Number of floors | Age of  Home | Price (1000s dollars)  |   \n",
        "| ----------------| ------------------- |----------------- |--------------|-------------- |  \n",
        "| 2104            | 5                   | 1                | 45           | 460           |  \n",
        "| 1416            | 3                   | 2                | 40           | 232           |  \n",
        "| 852             | 2                   | 1                | 35           | 178           |  \n",
        "\n",
        "You will build a linear regression model using these values so you can then predict the price for other houses. For example, a house with 1200 sqft, 3 bedrooms, 1 floor, 40 years old.  \n",
        "\n",
        "Please run the following code cell to create your `X_train` and `y_train` variables."
      ],
      "id": "af2wPpufYU5y"
    },
    {
      "cell_type": "code",
      "execution_count": null,
      "metadata": {
        "id": "x2sEp9XSYU5z"
      },
      "outputs": [],
      "source": [
        "X_train = np.array([[2104, 5, 1, 45], [1416, 3, 2, 40], [852, 2, 1, 35]])\n",
        "y_train = np.array([460, 232, 178])"
      ],
      "id": "x2sEp9XSYU5z"
    },
    {
      "cell_type": "markdown",
      "metadata": {
        "id": "R0RVt3b2YU50"
      },
      "source": [
        "<a name=\"toc_15456_2.1\"></a>\n",
        "## 2.1 Matrix X containing our examples\n",
        "Similar to the table above, examples are stored in a NumPy matrix `X_train`. Each row of the matrix represents one example. When you have $m$ training examples ( $m$ is three in our example), and there are $n$ features (four in our example), $\\mathbf{X}$ is a matrix with dimensions ($m$, $n$) (m rows, n columns).\n",
        "\n",
        "\n",
        "$$\\mathbf{X} =\n",
        "\\begin{pmatrix}\n",
        " x^{(0)}_0 & x^{(0)}_1 & \\cdots & x^{(0)}_{n-1} \\\\\n",
        " x^{(1)}_0 & x^{(1)}_1 & \\cdots & x^{(1)}_{n-1} \\\\\n",
        " \\cdots \\\\\n",
        " x^{(m-1)}_0 & x^{(m-1)}_1 & \\cdots & x^{(m-1)}_{n-1}\n",
        "\\end{pmatrix}\n",
        "$$\n",
        "notation:\n",
        "- $\\mathbf{x}^{(i)}$ is vector containing example i. $\\mathbf{x}^{(i)}$ $ = (x^{(i)}_0, x^{(i)}_1, \\cdots,x^{(i)}_{n-1})$\n",
        "- $x^{(i)}_j$ is element j in example i. The superscript in parenthesis indicates the example number while the subscript represents an element.  \n",
        "\n",
        "Display the input data."
      ],
      "id": "R0RVt3b2YU50"
    },
    {
      "cell_type": "code",
      "execution_count": null,
      "metadata": {
        "id": "5zs5s_00YU51"
      },
      "outputs": [],
      "source": [
        "# data is stored in numpy array/matrix\n",
        "print(f\"X Shape: {X_train.shape}, X Type:{type(X_train)})\")\n",
        "print(X_train)\n",
        "print(f\"y Shape: {y_train.shape}, y Type:{type(y_train)})\")\n",
        "print(y_train)"
      ],
      "id": "5zs5s_00YU51"
    },
    {
      "cell_type": "markdown",
      "metadata": {
        "id": "NWKlkNDUYU52"
      },
      "source": [
        "<a name=\"toc_15456_2.2\"></a>\n",
        "## 2.2 Parameter vector w, b\n",
        "\n",
        "* $\\mathbf{w}$ is a vector with $n$ elements.\n",
        "  - Each element contains the parameter associated with one feature.\n",
        "  - in our dataset, n is 4.\n",
        "  - notionally, we draw this as a column vector\n",
        "\n",
        "$$\\mathbf{w} = \\begin{pmatrix}\n",
        "w_0 \\\\\n",
        "w_1 \\\\\n",
        "\\cdots\\\\\n",
        "w_{n-1}\n",
        "\\end{pmatrix}\n",
        "$$\n",
        "* $b$ is a scalar parameter.  "
      ],
      "id": "NWKlkNDUYU52"
    },
    {
      "cell_type": "markdown",
      "metadata": {
        "id": "0DcdiSi8YU53"
      },
      "source": [
        "For demonstration, $\\mathbf{w}$ and $b$ will be loaded with some initial selected values that are near the optimal. $\\mathbf{w}$ is a 1-D NumPy vector."
      ],
      "id": "0DcdiSi8YU53"
    },
    {
      "cell_type": "code",
      "execution_count": null,
      "metadata": {
        "id": "OZ5VOQY9YU53"
      },
      "outputs": [],
      "source": [
        "b_init = 785.1811367994083\n",
        "w_init = np.array([ 0.39133535, 18.75376741, -53.36032453, -26.42131618])\n",
        "print(f\"w_init shape: {w_init.shape}, b_init type: {type(b_init)}\")"
      ],
      "id": "OZ5VOQY9YU53"
    },
    {
      "cell_type": "markdown",
      "metadata": {
        "id": "eNNgiTQeYU54"
      },
      "source": [
        "<a name=\"toc_15456_3\"></a>\n",
        "# 3 Model Prediction With Multiple Variables\n",
        "The model's prediction with multiple variables is given by the linear model:\n",
        "\n",
        "$$ f_{\\mathbf{w},b}(\\mathbf{x}) =  w_0x_0 + w_1x_1 +... + w_{n-1}x_{n-1} + b \\tag{1}$$\n",
        "or in vector notation:\n",
        "$$ f_{\\mathbf{w},b}(\\mathbf{x}) = \\mathbf{w} \\cdot \\mathbf{x} + b  \\tag{2} $$\n",
        "where $\\cdot$ is a vector `dot product`\n",
        "\n",
        "To demonstrate the dot product, we will implement prediction using (1) and (2)."
      ],
      "id": "eNNgiTQeYU54"
    },
    {
      "cell_type": "markdown",
      "metadata": {
        "id": "5vgVbnVXYU55"
      },
      "source": [
        "<a name=\"toc_15456_3.1\"></a>\n",
        "## 3.1 Single Prediction element by element\n",
        "Our previous prediction multiplied one feature value by one parameter and added a bias parameter. A direct extension of our previous implementation of prediction to multiple features would be to implement (1) above using loop over each element, performing the multiply with its parameter and then adding the bias parameter at the end.\n"
      ],
      "id": "5vgVbnVXYU55"
    },
    {
      "cell_type": "code",
      "execution_count": null,
      "metadata": {
        "id": "QVAFhmboYU55"
      },
      "outputs": [],
      "source": [
        "def predict_single_loop(x, w, b):\n",
        "    \"\"\"\n",
        "    single predict using linear regression\n",
        "\n",
        "    Args:\n",
        "      x (ndarray): Shape (n,) example with multiple features\n",
        "      w (ndarray): Shape (n,) model parameters\n",
        "      b (scalar):  model parameter\n",
        "\n",
        "    Returns:\n",
        "      p (scalar):  prediction\n",
        "    \"\"\"\n",
        "    n = x.shape[0]\n",
        "    p = 0\n",
        "    for i in range(n):\n",
        "        p_i = x[i] * w[i]\n",
        "        p = p + p_i\n",
        "    p = p + b\n",
        "    return p"
      ],
      "id": "QVAFhmboYU55"
    },
    {
      "cell_type": "code",
      "execution_count": null,
      "metadata": {
        "id": "VovRIvMNYU55"
      },
      "outputs": [],
      "source": [
        "# get a row from our training data\n",
        "x_vec = X_train[0,:]\n",
        "print(f\"x_vec shape {x_vec.shape}, x_vec value: {x_vec}\")\n",
        "\n",
        "# make a prediction\n",
        "f_wb = predict_single_loop(x_vec, w_init, b_init)\n",
        "print(f\"f_wb shape {f_wb.shape}, prediction: {f_wb}\")"
      ],
      "id": "VovRIvMNYU55"
    },
    {
      "cell_type": "markdown",
      "metadata": {
        "id": "F3jmxFgrYU56"
      },
      "source": [
        "Note the shape of `x_vec`. It is a 1-D NumPy vector with 4 elements, (4,). The result, `f_wb` is a scalar."
      ],
      "id": "F3jmxFgrYU56"
    },
    {
      "cell_type": "markdown",
      "metadata": {
        "id": "nFIQHoMyYU56"
      },
      "source": [
        "<a name=\"toc_15456_3.2\"></a>\n",
        "## 3.2 Single Prediction, vector\n",
        "\n",
        "Noting that equation (1) above can be implemented using the dot product as in (2) above. We can make use of vector operations to speed up predictions.\n",
        "\n",
        "Recall from the Python/Numpy lab that NumPy `np.dot()`[[link](https://numpy.org/doc/stable/reference/generated/numpy.dot.html)] can be used to perform a vector dot product."
      ],
      "id": "nFIQHoMyYU56"
    },
    {
      "cell_type": "code",
      "execution_count": null,
      "metadata": {
        "id": "UC6au2yvYU57"
      },
      "outputs": [],
      "source": [
        "def predict(x, w, b):\n",
        "    \"\"\"\n",
        "    single predict using linear regression\n",
        "    Args:\n",
        "      x (ndarray): Shape (n,) example with multiple features\n",
        "      w (ndarray): Shape (n,) model parameters\n",
        "      b (scalar):             model parameter\n",
        "\n",
        "    Returns:\n",
        "      p (scalar):  prediction\n",
        "    \"\"\"\n",
        "    p = np.dot(x, w) + b\n",
        "    return p"
      ],
      "id": "UC6au2yvYU57"
    },
    {
      "cell_type": "code",
      "execution_count": null,
      "metadata": {
        "id": "2_SBgV41YU57"
      },
      "outputs": [],
      "source": [
        "# get a row from our training data\n",
        "x_vec = X_train[0,:]\n",
        "print(f\"x_vec shape {x_vec.shape}, x_vec value: {x_vec}\")\n",
        "\n",
        "# make a prediction\n",
        "f_wb = predict(x_vec,w_init, b_init)\n",
        "print(f\"f_wb shape {f_wb.shape}, prediction: {f_wb}\")"
      ],
      "id": "2_SBgV41YU57"
    },
    {
      "cell_type": "markdown",
      "metadata": {
        "id": "rQCsi7m4YU58"
      },
      "source": [
        "The results and shapes are the same as the previous version which used looping. Going forward, `np.dot` will be used for these operations. The prediction is now a single statement. Most routines will implement it directly rather than calling a separate predict routine."
      ],
      "id": "rQCsi7m4YU58"
    },
    {
      "cell_type": "markdown",
      "metadata": {
        "id": "ZczBg__eYU58"
      },
      "source": [
        "<a name=\"toc_15456_4\"></a>\n",
        "# 4 Compute Cost With Multiple Variables\n",
        "The equation for the cost function with multiple variables $J(\\mathbf{w},b)$ is:\n",
        "$$J(\\mathbf{w},b) = \\frac{1}{2m} \\sum\\limits_{i = 0}^{m-1} (f_{\\mathbf{w},b}(\\mathbf{x}^{(i)}) - y^{(i)})^2 \\tag{3}$$\n",
        "where:\n",
        "$$ f_{\\mathbf{w},b}(\\mathbf{x}^{(i)}) = \\mathbf{w} \\cdot \\mathbf{x}^{(i)} + b  \\tag{4} $$\n",
        "\n",
        "\n",
        "In contrast to previous labs, $\\mathbf{w}$ and $\\mathbf{x}^{(i)}$ are vectors rather than scalars supporting multiple features."
      ],
      "id": "ZczBg__eYU58"
    },
    {
      "cell_type": "markdown",
      "metadata": {
        "id": "6f_IoPIgYU59"
      },
      "source": [
        "Below is an implementation of equations (3) and (4). Note that this uses a *standard pattern for this course* where a for loop over all `m` examples is used."
      ],
      "id": "6f_IoPIgYU59"
    },
    {
      "cell_type": "code",
      "execution_count": null,
      "metadata": {
        "id": "KzmukNj2YU59"
      },
      "outputs": [],
      "source": [
        "def compute_cost(X, y, w, b):\n",
        "    \"\"\"\n",
        "    compute cost\n",
        "    Args:\n",
        "      X (ndarray (m,n)): Data, m examples with n features\n",
        "      y (ndarray (m,)) : target values\n",
        "      w (ndarray (n,)) : model parameters\n",
        "      b (scalar)       : model parameter\n",
        "\n",
        "    Returns:\n",
        "      cost (scalar): cost\n",
        "    \"\"\"\n",
        "    m = X.shape[0]\n",
        "    cost = 0.0\n",
        "    for i in range(m):\n",
        "        f_wb_i = np.dot(X[i], w) + b           #(n,)(n,) = scalar (see np.dot)\n",
        "        cost = cost + (f_wb_i - y[i])**2       #scalar\n",
        "    cost = cost / (2 * m)                      #scalar\n",
        "    return cost"
      ],
      "id": "KzmukNj2YU59"
    },
    {
      "cell_type": "code",
      "execution_count": null,
      "metadata": {
        "id": "wauLSj3hYU5-"
      },
      "outputs": [],
      "source": [
        "# Compute and display cost using our pre-chosen optimal parameters.\n",
        "cost = compute_cost(X_train, y_train, w_init, b_init)\n",
        "print(f'Cost at optimal w : {cost}')"
      ],
      "id": "wauLSj3hYU5-"
    },
    {
      "cell_type": "markdown",
      "metadata": {
        "id": "OhmC_OxnYU5-"
      },
      "source": [
        "**Expected Result**: Cost at optimal w : 1.5578904045996674e-12"
      ],
      "id": "OhmC_OxnYU5-"
    },
    {
      "cell_type": "markdown",
      "metadata": {
        "id": "BYli0eeeYU5_"
      },
      "source": [
        "<a name=\"toc_15456_5\"></a>\n",
        "# 5 Gradient Descent With Multiple Variables\n",
        "Gradient descent for multiple variables:\n",
        "\n",
        "$$\\begin{align*} \\text{repeat}&\\text{ until convergence:} \\; \\lbrace \\newline\\;\n",
        "& w_j = w_j -  \\alpha \\frac{\\partial J(\\mathbf{w},b)}{\\partial w_j} \\tag{5}  \\; & \\text{for j = 0..n-1}\\newline\n",
        "&b\\ \\ = b -  \\alpha \\frac{\\partial J(\\mathbf{w},b)}{\\partial b}  \\newline \\rbrace\n",
        "\\end{align*}$$\n",
        "\n",
        "where, n is the number of features, parameters $w_j$,  $b$, are updated simultaneously and where  \n",
        "\n",
        "$$\n",
        "\\begin{align}\n",
        "\\frac{\\partial J(\\mathbf{w},b)}{\\partial w_j}  &= \\frac{1}{m} \\sum\\limits_{i = 0}^{m-1} (f_{\\mathbf{w},b}(\\mathbf{x}^{(i)}) - y^{(i)})x_{j}^{(i)} \\tag{6}  \\\\\n",
        "\\frac{\\partial J(\\mathbf{w},b)}{\\partial b}  &= \\frac{1}{m} \\sum\\limits_{i = 0}^{m-1} (f_{\\mathbf{w},b}(\\mathbf{x}^{(i)}) - y^{(i)}) \\tag{7}\n",
        "\\end{align}\n",
        "$$\n",
        "* m is the number of training examples in the data set\n",
        "\n",
        "    \n",
        "*  $f_{\\mathbf{w},b}(\\mathbf{x}^{(i)})$ is the model's prediction, while $y^{(i)}$ is the target value\n"
      ],
      "id": "BYli0eeeYU5_"
    },
    {
      "cell_type": "markdown",
      "metadata": {
        "id": "V5HbH3URYU5_"
      },
      "source": [
        "<a name=\"toc_15456_5.1\"></a>\n",
        "## 5.1 Compute Gradient with Multiple Variables\n",
        "An implementation for calculating the equations (6) and (7) is below. There are many ways to implement this. In this version, there is an\n",
        "- outer loop over all m examples.\n",
        "    - $\\frac{\\partial J(\\mathbf{w},b)}{\\partial b}$ for the example can be computed directly and accumulated\n",
        "    - in a second loop over all n features:\n",
        "        - $\\frac{\\partial J(\\mathbf{w},b)}{\\partial w_j}$ is computed for each $w_j$.\n",
        "   "
      ],
      "id": "V5HbH3URYU5_"
    },
    {
      "cell_type": "code",
      "execution_count": null,
      "metadata": {
        "id": "U-9Q7OEgYU6A"
      },
      "outputs": [],
      "source": [
        "def compute_gradient(X, y, w, b):\n",
        "    \"\"\"\n",
        "    Computes the gradient for linear regression\n",
        "    Args:\n",
        "      X (ndarray (m,n)): Data, m examples with n features\n",
        "      y (ndarray (m,)) : target values\n",
        "      w (ndarray (n,)) : model parameters\n",
        "      b (scalar)       : model parameter\n",
        "\n",
        "    Returns:\n",
        "      dj_dw (ndarray (n,)): The gradient of the cost w.r.t. the parameters w.\n",
        "      dj_db (scalar):       The gradient of the cost w.r.t. the parameter b.\n",
        "    \"\"\"\n",
        "    m,n = X.shape           #(number of examples, number of features)\n",
        "    dj_dw = np.zeros((n,))\n",
        "    dj_db = 0.\n",
        "\n",
        "    for i in range(m):\n",
        "        err = (np.dot(X[i], w) + b) - y[i]\n",
        "        for j in range(n):\n",
        "            dj_dw[j] = dj_dw[j] + err * X[i, j]\n",
        "        dj_db = dj_db + err\n",
        "    dj_dw = dj_dw / m\n",
        "    dj_db = dj_db / m\n",
        "\n",
        "    return dj_db, dj_dw"
      ],
      "id": "U-9Q7OEgYU6A"
    },
    {
      "cell_type": "code",
      "execution_count": null,
      "metadata": {
        "id": "L5VKQo2CYU6A"
      },
      "outputs": [],
      "source": [
        "#Compute and display gradient\n",
        "tmp_dj_db, tmp_dj_dw = compute_gradient(X_train, y_train, w_init, b_init)\n",
        "print(f'dj_db at initial w,b: {tmp_dj_db}')\n",
        "print(f'dj_dw at initial w,b: \\n {tmp_dj_dw}')"
      ],
      "id": "L5VKQo2CYU6A"
    },
    {
      "cell_type": "markdown",
      "metadata": {
        "id": "ezrKHs--YU6B"
      },
      "source": [
        "**Expected Result**:   \n",
        "dj_db at initial w,b: -1.6739251122999121e-06  \n",
        "dj_dw at initial w,b:   \n",
        " [-2.73e-03 -6.27e-06 -2.22e-06 -6.92e-05]  "
      ],
      "id": "ezrKHs--YU6B"
    },
    {
      "cell_type": "markdown",
      "metadata": {
        "id": "-VTuiOk-YU6B"
      },
      "source": [
        "<a name=\"toc_15456_5.2\"></a>\n",
        "## 5.2 Gradient Descent With Multiple Variables\n",
        "The routine below implements equation (5) above."
      ],
      "id": "-VTuiOk-YU6B"
    },
    {
      "cell_type": "code",
      "execution_count": null,
      "metadata": {
        "id": "6LfMI7f1YU6B"
      },
      "outputs": [],
      "source": [
        "def gradient_descent(X, y, w_in, b_in, cost_function, gradient_function, alpha, num_iters):\n",
        "    \"\"\"\n",
        "    Performs batch gradient descent to learn w and b. Updates w and b by taking\n",
        "    num_iters gradient steps with learning rate alpha\n",
        "\n",
        "    Args:\n",
        "      X (ndarray (m,n))   : Data, m examples with n features\n",
        "      y (ndarray (m,))    : target values\n",
        "      w_in (ndarray (n,)) : initial model parameters\n",
        "      b_in (scalar)       : initial model parameter\n",
        "      cost_function       : function to compute cost\n",
        "      gradient_function   : function to compute the gradient\n",
        "      alpha (float)       : Learning rate\n",
        "      num_iters (int)     : number of iterations to run gradient descent\n",
        "\n",
        "    Returns:\n",
        "      w (ndarray (n,)) : Updated values of parameters\n",
        "      b (scalar)       : Updated value of parameter\n",
        "      \"\"\"\n",
        "\n",
        "    # An array to store cost J and w's at each iteration primarily for graphing later\n",
        "    J_history = []\n",
        "    w = copy.deepcopy(w_in)  #avoid modifying global w within function\n",
        "    b = b_in\n",
        "\n",
        "    for i in range(num_iters):\n",
        "\n",
        "        # Calculate the gradient and update the parameters\n",
        "        dj_db,dj_dw = gradient_function(X, y, w, b)   ##None\n",
        "\n",
        "        # Update Parameters using w, b, alpha and gradient\n",
        "        w = w - alpha * dj_dw               ##None\n",
        "        b = b - alpha * dj_db               ##None\n",
        "\n",
        "        # Save cost J at each iteration\n",
        "        if i<100000:      # prevent resource exhaustion\n",
        "            J_history.append( cost_function(X, y, w, b))\n",
        "\n",
        "        # Print cost every at intervals 10 times or as many iterations if < 10\n",
        "        if i% math.ceil(num_iters / 10) == 0:\n",
        "            print(f\"Iteration {i:4d}: Cost {J_history[-1]:8.2f}   \")\n",
        "\n",
        "    return w, b, J_history #return final w,b and J history for graphing"
      ],
      "id": "6LfMI7f1YU6B"
    },
    {
      "cell_type": "markdown",
      "metadata": {
        "id": "ye5b-EJLYU6C"
      },
      "source": [
        "In the next cell you will test the implementation."
      ],
      "id": "ye5b-EJLYU6C"
    },
    {
      "cell_type": "code",
      "execution_count": null,
      "metadata": {
        "id": "8hQW-P4TYU6C"
      },
      "outputs": [],
      "source": [
        "# initialize parameters\n",
        "initial_w = np.zeros_like(w_init)\n",
        "initial_b = 0.\n",
        "# some gradient descent settings\n",
        "iterations = 1000\n",
        "alpha = 5.0e-7\n",
        "# run gradient descent\n",
        "w_final, b_final, J_hist = gradient_descent(X_train, y_train, initial_w, initial_b,\n",
        "                                                    compute_cost, compute_gradient,\n",
        "                                                    alpha, iterations)\n",
        "print(f\"b,w found by gradient descent: {b_final:0.2f},{w_final} \")\n",
        "m,_ = X_train.shape\n",
        "for i in range(m):\n",
        "    print(f\"prediction: {np.dot(X_train[i], w_final) + b_final:0.2f}, target value: {y_train[i]}\")"
      ],
      "id": "8hQW-P4TYU6C"
    },
    {
      "cell_type": "markdown",
      "metadata": {
        "id": "ups0aKFpYU6D"
      },
      "source": [
        "**Expected Result**:    \n",
        "b,w found by gradient descent: -0.00,[ 0.2   0.   -0.01 -0.07]   \n",
        "prediction: 426.19, target value: 460  \n",
        "prediction: 286.17, target value: 232  \n",
        "prediction: 171.47, target value: 178  "
      ],
      "id": "ups0aKFpYU6D"
    },
    {
      "cell_type": "code",
      "execution_count": null,
      "metadata": {
        "id": "c7G5SYK8YU6D"
      },
      "outputs": [],
      "source": [
        "# plot cost versus iteration\n",
        "# fig, (ax1, ax2) = plt.subplots(1, 2, constrained_layout=True, figsize=(12, 4))\n",
        "# ax1.plot(J_hist)\n",
        "# ax2.plot(100 + np.arange(len(J_hist[100:])), J_hist[100:])\n",
        "# ax1.set_title(\"Cost vs. iteration\");  ax2.set_title(\"Cost vs. iteration (tail)\")\n",
        "# ax1.set_ylabel('Cost')             ;  ax2.set_ylabel('Cost')\n",
        "# ax1.set_xlabel('iteration step')   ;  ax2.set_xlabel('iteration step')\n",
        "# plt.show()"
      ],
      "id": "c7G5SYK8YU6D"
    },
    {
      "cell_type": "markdown",
      "source": [
        "![image.png](data:image/png;base64,iVBORw0KGgoAAAANSUhEUgAAA5MAAAE0CAYAAACxaWf2AAAAAXNSR0IArs4c6QAAAARnQU1BAACxjwv8YQUAAAAJcEhZcwAADsMAAA7DAcdvqGQAAF1LSURBVHhe7d0JfIzX+gfwX4SESBD7vosQa6W22pdWlVv72lraXvSibrV/1L62vVVK0ZZq0VKqsV2qi3RBtfbt0tj3fYslCFne/zxnzvCKQSIzMcvv+/mMed/nzCQzL+bM857zPsfHsAARERERERFRCqTT90RERERERETJxmSSiIiIiIiIUozJJBEREREREaUYk0kiIiIiIiJKMSaTRERERERElGJMJomIiIiIiCjFmEwSERERERFRijGZJCIiIiIiohRjMklEREREREQpxmSSiIiIiIiIUozJJBEpv//+O3x8fNS9uxk5cqR67URE5LrYz6TeiBEjEBISgoSEBB1xDHvvr169eupmExMTgxw5cmDmzJk6QsRkkrzI5cuXMWrUKFSuXBlZsmRBxowZUbJkSfzzn//Etm3b9KMc78svv8SkSZP0nnv59ddfVQcjx+5JO3TokHot27dv1xEiItfCfibl2M8k37lz5zBx4kQMGTIEvr6+OgoVmz17tt5znsDAQLzxxhvqGN28eVNHydv5GBZ6m8hj7d69G88//zxOnz6Ntm3bombNmqqT379/P7777jscOXIEx44dQ8GCBfUzHKdWrVo4ceKE+h2uLDExEbdv34afnx/SpbOeZxo6dCjGjRuHw4cPo2jRoir2pERGRqJx48aYNWsWunXrpqNW8fHx6iZ/p0RETwL7mUdjP5M6w4YNw7Rp03DmzBl1DG3k35SctEjNiK+992cblTT/3LNnz6JAgQLqdfTs2VNHyZtxZJI8nkzL+Mc//oHr169jw4YN+Oabb9CnTx+89tpr+M9//oN9+/apjszbz6tIxy6diK2DdyY51rGxsXov9dKnT89EkoieGPYzycN+5vHJtFZJctu0aXNPIukoyX1/efLkQf369TnVle6y/Gcj8mgTJkyQ3tv48ssvdeTRTpw4YXTt2tXInTu3YfnQNsqUKWNMnDjRSExM1I+w2rZtm9GsWTP1OH9/f6NQoUJG69atjaNHj6r2IkWKqN+d9PYgkyZNUu2bNm3SkbtWr16t2qZPn6724+PjjXfffdcoXbq0kSlTJiM4ONh46qmnjKlTp6r2lPrtt9/Uz5d7Ie/f9nrNN1u72L59u9GiRQsje/bs6v2XL1/+vuN8+PBh9bwhQ4YYlo7QKFu2rJEhQwa1LWbPnm08++yzRr58+VRcjmHfvn2Nq1evqnYhj036OuQ2YsQI1S73sp/UypUrjZo1axoBAQFGUFCQ+j3r16/XrVbm1xcREWGUK1dOvZdSpUoZ3377rX4UEdGDsZ9JHvYzj9/P/PHHH+pnfPfddzpiZXud5pv8mxC3bt1Sr7tq1ap3jp8cm8mTJ9/378ze+6tbt666JTV+/Hj1WNu/QfJuD/60IfIQtWrVUh+gsbGxOvJwFy5cMAoXLqw69zfffNOYMmWK8dxzz6kPzt69e+tHGca5c+eMHDlyGCVKlDDef/99Y+bMmcbo0aPV71u3bp16zJIlS4yQkBAjZ86cxtdff33n9iBnzpwxfH19jX//+986clfPnj3Va7p48aLaHz58uHpN3bp1Ux2/dA7ymPbt26v2lErayf/555/Giy++qGIfffTRndcur1HIe5TOUzp2ef/Tpk0zmjRpoh7/wQcfqMcIWycqnad05HKMPv30U+Ovv/5S7fLFpF27dupnyPuwvc969eqpdnHw4EFj0KBB6uf06NHjzmvZsWOHarfXCUoH7ePjY4SGhqrXM3bsWKNgwYLq34J0yja211elShUjf/786vV9/PHH6vWmS5fO2Lt3r34kEZF97GeSh/3M4/cz7733nvoZR44c0REreY2S5MtrsL1m+Tchzp8/r/799OrVS/3dye+UExPyc0aOHKkeY5OSZHLNmjXqsXPnztUR8mZMJsnjydm4ChUq6L1H+7//+z/1ISlnD23kDF7Lli1VfOfOnSq2dOlStb9x40a1/yDPPPPMnbOEyWE7e5qQkKAjhnH79m3VIUina1OpUiWjadOmei/1knbyQs6iSkw6QjM5HnJ2s3r16kZcXJyOWslxks7/8uXLat/WiUrnmrQTFDExMXrrLjmLLM+xfREQq1atUjHbmWazpJ2gvCY5htKpR0dH66hhHD9+3AgMDFQduo3t9WXOnFm125w6dUp92ZB/D0RED8N+JnnYzzx+P9OlSxd1EiDpiKIoUKCA3aRPRpbtneCQkwMyiiojlzYpSSZlVF0eO3jwYB0hb8ZrJsnjXb16VVXVS67//ve/6kL21q1b6whUuWzLh73aXr58ubrPmjWrupd9KSjgKJ07d1YFHCydrY4AP/30Ey5evKjabOT3S8GHqKgoHUk7//vf//D333+jU6dOqgLfhQsX7twsXzxw48YNrF+/Xj/aSuKWLzt67y5L56ruLR0krly5on5GnTp1VGzTpk3qPqU2b96sjmHPnj2RLVs2HbUWKZDXvGXLFlg6cR21kuudpN3G8iUBoaGhOHjwoI4QEdnHfsbx2M/c6/z58+r3JF2+42Gk4qslwVbbUlzHkvSq996wYUNcu3YNe/fuVW0plSNHDnUvP4uIySR5POngpaNPLqmGJx/uSZUtW1bdHz58WN3XrVsX7dq1w5gxY9QHq3RiH3/8cao/XFu2bIlMmTKpAg42sh0UFIRmzZrpCNTvlc5AXpfcpNiD+YuBM+3Zs0fdS4nwXLly3XOTEvhCSpibFStWTG/da+PGjap6nnT20lHKzyhevLhqk47vcdgqGpYpU0bdmyX9e7Sx9wUkODgYly5d0ntERPaxn3E89jOOMXfuXLVUjRTXyZ49u3rvL7/8smp73PcuSTmRDZNJ8njyoS5n31JS1e1hZ/5sbXL/7bffqrOTAwYMUFX8+vfvr74gpGaNKunMmzdvjsWLF+PWrVvq58pZ7FatWqnO36Z27dpqTax58+ahevXqWLJkCRo0aIBXX31VP8J5bB2JrDW1atUqu7dGjRqpx9iYX7uNdMZSFU7O3n7wwQfqfcpzf/zxR9We2g7L3t+joaspJm0zr9llZns8EdGDsJ9xPPYz95IkUEZoU9InyZI0kjjKCOiMGTPw/fffq/cuFYbF4753WxKaM2dOdU/ejckkebwWLVqoztJ8BvZhZJ0re1N6bLGk62BVqVJFrf20evVqbN26VU2hkQ7L5mFfGB5EphlJp7Fy5UosW7ZMdfTmqUc2MgVJptPIgtVHjx69sy1l6B3hQa9dpmcJ6bilM7d3k87rUeS9yVQl6eD69u2rvtzIc+2tNZaS42h7vkyRSsp2tvtJr2dGRJ6D/czjYz+TPDICKsuDyN9BUg963fLvUUZrV6xYgVdeeUWNbMt7t02ffly2abm2EVjybkwmyeP16NFDfaDLtSjbtm3T0bvkOgI5SycLPgvpaA4cOKDOwNrImcAPP/xQbUu7kDNzSc8Qyoe9dHzmKSuBgYGqw04JWfhapqNIRyC3vHnzqrPBZnJti5msEVW+fHm1bf790qnJQtmPQ167SDoV5qmnnkLp0qUxefJku9Ot5NqO5LCdpU16dvT999/XW3c96LXYEx4efudMrHnqmZyZljPs8vrz58+vo0REqcN+hv2MjbP6GRklFvau8ZTXbe812967+d/QzZs31VTp1JC1VEWtWrXUPXk3JpPk8WQ6j0xrkc63WrVq6szrtGnT8MUXX+Cdd95RHfPgwYPvnNkbNGgQChcujI4dO+Ktt95Sj33hhRewaNEi9O7d+05HOmfOHHXm9O2338Znn32GqVOnqqk0cn2J+ezu008/rc4i9+vXT3XYCxYs0C0PliFDBrRt21adTfz555/RoUOH+6bHyOuWKUnvvfeeOks8cOBAdX2LdL5yFttGHtelSxe9lzLy2oUcn6+++kq9drlGRRacnjVrlupA5cykHMfPP/9cvRa5vsdcYOBhmjRpoq7jkLOlH330kerg5LqWHTt26EfcFRYWhoCAAHz66afqd8lr2bVrl269l3zhmTRpkvriJlOz5Avau+++q7bj4uLUlxMiIkdhP8N+xtn9jPxcSU7l7yopOYZSsGjUqFGYP3/+nQJOcm2sXLcp73369Onq2FWqVEkdj9SQKcLy92/vGlDyQgaRl7h06ZJaM6tixYqqPLeU45a1u2Q9Kds6UjZS9lrKcMu6XfK40NBQtSh1oqkk99atWw1LZ24ULVrUsHwwq9LwsvbX4sWL9SOsLB28YfnCoNaBsnyRkNODuuXhbOs4yc1eWXhZSLpGjRqqlLuUQy9evLhahNm2PpeNPN9eae+kpFS7PFbuzaRcuJQdl7WwkrZHRUWpY5A3b161ELSsn9WoUSO1FpiNpSNTz5Py7/ZERkaqBZWlzLscb1nEWtZWk+fI7zaTMvqWzl79LnO7vZLm4vvvv1eLSVu+4KlS7ZYvEPeUgRcPe30PKotORGQP+5mHYz+Tun5Gni9/x+YlPYT8W7IkjGq5D/k9liRPtxhqbclSpUqpvz/5d2RJOO8sgWI+zvben73XZlunVNbxJBI+8oflHw8REREREbkoSyKnRqplJNuSEOto2pLRT5nau3//fjWKS8RprkRERERELk6ua5Vp0TKdVorxpLWYmBg1TVgq7DKRJBuOTBIREREREVGKcWSSiIiIiIiIUozJJBEREREREaUYp7k+gJTYJiIiz5TaRbtdHfswIiLP5Gr9F0cmiYiIiIiIKMWYTBIREREREVGKcZrrA5inCHn6dCgiIm/gTZ/r7MOIiDyHK3+mc2SSiIiIiIiIUozJJBEREREREaUYk0kiIiIiIiJKMSaTRERET8CCBQtQpkwZZM6cGSVKlMDatWtVfObMmShZsiQCAwPRpEkTnDp1SsVttm7dijp16qj2PHnyYPLkybqFiIgobTGZJCIiSmOrVq3CwIEDMWvWLFy7dg1r1qxB8eLFsXr1agwePBjLli3DpUuXUKxYMXTs2FE/C7hw4YJKMHv27ImLFy/iwIEDePbZZ3UrERFR2mI11wdgJTwiIs/iSp/rNWvWxKuvvqpuZm+//TZu3ryJadOmqX0ZlSxQoIBKGmX0UhLN48eP4+uvv1btD+Ko97rhLJAnE1A0iw4QEVGaYzVXIiIiUhISErB582acP39eTWctWLAg+vTpo5JIOb9rPsdr2961a5e6X79+PbJnz66S0dy5c6N58+Y4duyYanO063FA+1VA2LfAhO1AfKJuICIi0lw2mbx165Y6Y1ukSBEEBQWhcuXK+OGHH1TbkSNH4OPjo64Xsd3GjBmj2oR0vjJ9KEeOHOo2YMCAezpneX79+vUREBCA0NBQREZG6hbHeeF7oOQ8oIS+7Y3WDURE5NXOnj2LuLg4REREqOskt2/fjm3btmHs2LFo2rQpFi5ciJ07d6rkcvTo0aq/u3HjhnruiRMnMGfOHHWdpCSRSafBOtKITcDRa8CNeODtv4Cqi4At53UjERGRhcsmk/Hx8ShUqJC6fkSGdiVZbNeunUoEbS5fvoyYmBh1GzZsmI4CM2bMwNKlS7Fjxw7VIa9YsQLTp0/XrVAdrySncr3JuHHj0KZNG3WG2JGOxQAHrwKH9O02z+gSEZFFpkyZ1H3fvn2RL18+5MyZE/3798fKlSvRsGFDjBo1Cq1bt1YnU4sWLapOqMropZDntmzZEk8//TQyZsyIESNG4M8//7xnCpQjREUDk3bqHW3bBWtC+eY6ICZOB4mIyKu5bDIp1e1GjhypOtJ06dKhWbNm6gzsli1b9CMeTM7avvXWW6rzlWtNZHv27Nmqbd++faoSnnTW0ilLh12+fHksWmTpIZ2IF6YSEZEIDg5W/ZOMONrTu3dv7N+/H+fOnVN9lJxcLVeunGqrUKHCPc+zbZtn3zhC6WzA9LpANj8d0BItv0aSzLAFwIq753aJiMhLuc01kzItSBLBsLAwHYE6aysdcvfu3VWFO5vdu3ejYsWKeg9qW2JC7qVinpzptTG3O4r9rwhERERQ/daUKVNUwhgdHY1Jkyapk6axsbHq+khJDmUaa48ePdCvXz+VgNqet2TJEjU1VqbKyqydWrVqIVs2S/bnQOksndirZYA9HYGOJXXQRGbfNP8BaPsTcPq6DhIRkddxi2RSOszOnTuja9eu6hpHmRK0adMmHD16VI1USll1abeRaa/mSkeyLTHpnJO2CdmXn+FMDj5pTEREbkwuzZCpqiEhIWqtSbn0YsiQISqZ7NSpk6oFULVqVdSoUeOemgANGjTAu+++ixdeeEEV4JEqr998841udbw8AcA3jYEfXgCK3j0He0fEISB0AfDZbuuoJREReReXXxokMTFRdaxXr15V625lyJBBt9x15swZdd2JXDOSJUsWlRzKGl7SEQtJOOvVq6cSRjmjKx3233//rdqEXLci5CyxTWpL8FZcCOy8qHcstre1xHLqHSIiSnOuXFrd0ZzxXqW668hNwEc7gQQ73xxq5gVm1AXCsusAERE5hCv3Xy49Mil5rlR0lSmuck2jvURSJL1mRKbCSvEdG9m2TY+V+0OHDt0zEmludxaesCUiIneW2dIFj68JbG4DhOfSQZM/zwCVvwOGbgBi43WQiIg8mksnk6+//jqioqKwfPnyO9XvxIYNG7B37141aikVWd944w018mjL1Lt06YKJEyfi5MmTasHnCRMmoFu3bqpNphRVqlRJFeCR6UQyUikVX6XIgSPxmkkiIvJElXIC61sBk56xJJjpdVCLSwTGbQXKLwR+PaGDRETksVw2mZTrIWU5DykykDdv3jvrSc6bN0+NLDZp0kQV0ZEKd/7+/pg/f75+JtCzZ0+1kLNUaZV2ubZEYjYLFixQC0ZLQYNBgwaptb5y5bJzmpWIiIju42v59tCvAvB3B6B5ER00OXAFaLgc6PYrcOGmDhIRkcdx+Wsmn5TUzk2utBDYYbpmcmsboDLzVSKiJ4bXTDqHfItYfAjo+wdw+oYOmuTMCEysCbwUIpel6CARESUbr5n0QuwwiYjIG0h/17oEENUB+FfY/Zd5XIgFuvwKPLsCOHj3+xAREXkAJpNphMO/RETkybL6A9PqAOtaAuXsVHSNPGGJfwu8txWIS9BBIiJya0wmnYQDk0RE5I1q5AW2tAHerQb4++qgFmtJIgdvAKpEAOvP6CAREbktJpNphCOTRETkLfwsSeQ7TwG72gMNC+igyf8uATWXAL3XAFdu6SAREbkdJpNOwpFJIiLydiWzAquaA3MaADky6qAmJ1k/2Q2U/dZawIflAImI3A+TSSIiInIaKdDTpTSwp4PlPkQHTU5dB1r/BLT4ETgeo4NEROQWmEymEZ5xJSIib5YzEzCnIRDZ3DpimdR/jwBlFwAf7wQSEnWQiIhcGpNJJ+HSIERERPdrWBDY2Q4Y/BSQPsm3kJg4oN86oMYSYMcFHSQiIpfFZDKNcGCSiIjIKlN6YFw1YFsbS+KYRwdNNp2zVnwd8Bdww5JgEhGRa2Iy6SQcmCQiInq4cjmAP1oCn9YBsvjpoJZgAOO3W9em/OmYDhIRkUthMplGeM0kERHR/dL5AL3CgKgOQJviOmhy+BrQ5HugcyRw7oYOEhGRS2Ay6SS8ZpKIiCj58mcGvnsO+O/zQKFAHTT5Zj8QugD4IoonaImIXAWTyTTCfo+IiOjRmhcFdrcH+pW3jlqaRd8CXvsdqP9fYG+0DhIR0RPDZNJJODBJRET0eIL8gEm1gA2tgEo5ddBk9SmgwkJg9GbgVoIOEhFRmmMySURERC4pPDewqTUwvgYQkF4HtduJwIhNlmTTklSutSSXRESU9phMphFe30FERJRyshbl25WAXe2BJoV00GTPZaDOMuCfvwOXYnWQiIjSBJNJJ+E0VyIiIscplgVY+QIwvxGQO5MOmsyMAkLnA/P28QQuEVFaYTKZRtivERERpY5USu9QyrqMyGtldNDkfCzw0i/AsyuAA1d0kIiInMZlk8lbt27h1VdfRZEiRRAUFITKlSvjhx9+UG3r169H48aNkT17duTKlQtt27bF6dOnVZsYOXIkMmTIgMDAwDu3Q4cO6VbgyJEjqF+/PgICAhAaGorIyEjd4jhcGoSIiMg5smcEPq8HrH4RCM2mgyaRJ4By3wJjt7BADxGRM7lsMhkfH49ChQph9erVuHLlCsaMGYN27dqpRDA6Oho9evRQ20ePHlXJZvfu3fUzrdq3b4+YmJg7t+LF766E3LFjR5WcXrx4EePGjUObNm1w/vx53eocHJkkIiJyrDr5ge3tgDFVAX9fHdQkiRy2Eaj8HbCGBXqIiJzCZZPJzJkzqxHGokWLIl26dGjWrBmKFSuGLVu24Pnnn1ejkVmyZFGji3369MG6dev0Mx9u37592Lp1K0aNGoVMmTKhdevWKF++PBYtWqQf4RgcmCQiInI+SSKHVgH+Z0kqGxbQQZOoaKDuMuDV34CLLNBDRORQbnPN5NmzZ1UiGBYWpiN3rVmz5r748uXL1TRYiX/66ac6CuzevVuNUspopk3FihVV3JlYDICIiMh5SmUDVjUH5jYEcmXUQZMv91gL9Hy9l30yEZGjuEUyGRcXh86dO6Nr167qGkeznTt3YvTo0Rg/fryOQE2HjYqKUlNXP//8c9U+f76lB7GQKa9Zs2ZV2zayf+3aNb1HRERE7kjqFXQOAfZ0tF+g50Is0OVXoNFyYN9lHSQiosfm8slkYmIiXn75Zfj5+WHq1Kk6anXgwAE15XXy5MmoXbu2jgJly5ZF/vz54evri5o1a6Jfv36IiIhQbVKM5+rVq2rbRvbNI5WOwAI8RERET4atQM+aF4EywTpo8utJoMJCYMxmFughIkoNl04mDcNQFV1liqtc0ygVWm2k8E6jRo0wbNgwlWw+jI8ls5OfJWTaq1R2NY9E7tixw+70WUfijBoiIqK0VVsK9LQFxj6gQM/wTUBFS1K5mgV6iIgei0snk6+//rqarirXP0qxHJuTJ0+iQYMG6N27N3r16qWjdy1btkxVfJUEcuPGjfj444/x4osvqraQkBBUqlRJFeCJjY3FkiVL1FRZKcTjSByYJCIievL8LEnkkCrArvZA44I6aLL3MlBvGfDKb8CFmzpIRETJ4mNJuFxy0ExGHqWSq7+/P9KnT6+jwPTp09X0Vqn0KhVfzeR6SCFLf/z8889qrcqCBQviX//6F9544w3VJmRJkW7dumHDhg0oXLgwpk2bpkY5zWQ5Epuk11gmR60lwLozesdCptrIGVIiInoyUvu57k686b2mhHzjmb8fePNP4JydxDFHRmBCDaBLaV6uQkSuw5U/0102mXzSUvuXVtuSTP7BZJKIyGUwmSSbS7HAoPXA51E6kEQ9S3/9WR2gtJ3rLYmI0porf6a7zdIg7o4ZOxERkWuQAj0z6gF/tADC7CSMv5+yFugZtYkFeoiIHobJpJNwegwREZFreyYfsLUt8G41IGOSAj23E4GRmy1J5beW5PKkDhIR0T2YTBIREZHXkgI97zxlLdDzbCEdNNl3Baj/X6DbryzQQ0SUFJPJNMJprkREZLZgwQKUKVNGFZMrUaIE1q5dq+IzZ85EyZIl1brITZo0walT969bcfv2bYSGhqoic+QYJbICP74AzG8E5LlbQP6OOXuB0AXA7D3WQj5ERMRk0mk4y5WIiB5k1apVGDhwIGbNmqXWPV6zZg2KFy+O1atXY/DgwWqJq0uXLqFYsWKqQnlS48ePR+7cufUeOYpcotKhFBBlOeQ9y+qgycVYoPtv1pHKPdE6SETkxZhMphGexSQiIpsRI0Zg+PDhqF69OtKlS4cCBQqom6yr3LZtW4SFhcHPzw/Dhg1TiebBgwf1M4HDhw9j7ty5eOedd3SEHC3YH/isLrCuJVAuuw6arNYFekZsBGLjdZCIyAsxmXQSFuAhIiJ7EhISsHnzZpw/f15NZ5Wpqn369MHNmzchq3WZV+yybe/atUvdi759++Ldd99Fpkx25mKSQ9XMC2xtA7xfHch0d8lrJS4RGL3FmlT+ekIHiYi8DJPJNMKBSSIiEmfPnkVcXBwiIiLUdZLbt2/Htm3bMHbsWDRt2hQLFy7Ezp07VXI5evRo+Pj44MaNG+q5S5YsQXx8PFq2bKn2yfky+AIDK1sL9Dxnp0DP/itAw+VAl1+A8yzQQ0Rehsmkk3BgkoiI7LGNKMoIY758+ZAzZ070798fK1euRMOGDTFq1Ci0bt0aRYoUQdGiRREUFKRGL69fv44BAwZgypQp6vmUtopnAX54AVjQ2H6Bnq/3AaHzgS+jeGkLEXkPJpNphB0LERGJ4OBglRzKiKM9vXv3xv79+3Hu3DmVVMpIZLly5VTsyJEjqF27NvLmzYtWrVrh9OnTalvi5HzyV9a+JLCnI9Cr7P0nji/dAl79Hai3DIhigR4i8gJMJp2EI5NERPQg3bt3VyOMkjBGR0dj0qRJaNasGWJjY9X1kXKt5LFjx9CjRw/069dPJaCSUB4/flxNi5WbLCGSJ08etV2okJ35l+Q02fyBT3WBnvJ2CvSsOQ1UXAgMZ4EeIvJwTCaJiIjSmFRpffrppxESEqLWmqxcuTKGDBmikslOnTqpNSarVq2KGjVqYMyYMeo56dOnV6OQtlv27NlVJVjZ9vX1VY+htFUjL7ClDfCfBxToGbPFkmxakspIFughIg/lY5jLxtEdV65c0VtA1qxZ9VbyNVgG/GZaZzqyOdCQa0sTET0xqf1cdyfe9F5dxeGrQO+1wA/HdCCJl0KACTWA3AE6QESUTK78mc6RSSfh0iBERETeo1gW4PumwMJngbx2Esa5UqBnAfD530AiT+MTkYdgMplG2G8QERF5NjmR3LYEsKcD8K+w++snRN8CeqwGai8F/ndRB4mI3BiTSSfhwCQREZF3yuoPTKsD/NUKqJBDB03+PAM8FQEM/Au4HqeDRERuiMlkGuGVqURERN6lWh5gc2tgfA0gIEmBnvhE4IPtQNkFwHKu7EJEborJpJPwmkkiIiLK4Au8XQn4uwPQvIgOmhyLAf7xA9DqR+C4ZZuIyJ24bDJ569YtvPrqqyhSpAiCgoJU2fQffrB82mq//PILQkNDERAQgPr16+Po0aO6RUYBDQwcOBA5cuRQtwEDBqiYjSzuLM+R58rPiIyM1C1EREREjlckCFj2PLCkCVAwsw6aLDkMlJkPTNxhHbUkInIHLptMxsfHq0WYV69ercrhyjpb7dq1U4nghQsX0KpVKxW7dOkSwsPD0b59e/1MYMaMGVi6dCl27NiBnTt3YsWKFZg+fbpuBTp27KiS04sXL2LcuHFo06YNzp8/r1udg7NciYiIvJvMWmpRDIjqCLxVEfBNMovperwl/icQHgGsP6ODREQuzK3WmaxQoQJGjBihksDZs2fjzz8tn7gW169fR86cObFt2zY10lizZk1069YNPXr0UO1ffPEFPv/8c6xfvx779u1D+fLlVUIqI56idu3a6Ny5M3r16qX2RWrXc3l2ObDKtEjxT80ssUJ6h4iI0hzXmSRXs+MC0GuNJXE8qwMmkmf2KAu8Vx0I9rfGiMg7cZ1JBzh79qxKBMPCwrB7925UrFhRtwCZM2dGiRIlVFwkbZdtc1vx4sXvJJLC3O4sLMBDREREZhVzAutaAp/VAbL56aAmXxum/w2Ezgfm7eP3CCJyTW6RTMbFxamRw65du6qRx5iYmPuyctm/du2a2k7aLtsSk0HYRz3XUViAh4iIiB4lneX7Qs8wYE9HoHMpHTQ5dxN46Reg0XJgb7QOEhG5CJdPJhMTE/Hyyy/Dz88PU6dOVbHAwEBcvXpVbdvIvm20MWm7bEvMx5LhPeq5zsITikRERPQgeQKAuY2AyOZAiJ1ZbL+eBCosBEZsBGLjdZCI6Alz6WRSRhKloqtMcV20aBEyZMig4jLVVYrr2Mg1kwcPHlRxkbRdts1thw4dumck0tzuKByYJCIiopRqWBDY2R4Y9TTg76uD2u1EYPQWoLwlqVx1XAeJiJ4gl04mX3/9dURFRWH58uXIlCmTjgItW7bErl27VIIZGxuL0aNHq+I8MgVWdOnSBRMnTsTJkydx6tQpTJgwQRXkESEhIahUqRJGjRqlnrtkyRJV8bV169aq3Vl4rQMRERElhySRw8OB/7UDGlmSy6QOXAGeXQF0WgWcuaGDRERPgMsmk7JupCznsX37duTNm1dNT5XbvHnzkCtXLpVIDhkyBMHBwdiwYQMWLFignwn07NkTzZs3V1Vby5UrhxdeeEHFbOSxmzdvVs8dNGgQIiIi1M90JI5MEhERUWqUygb83Az4phGQ5+459TvmH7AW6PlkF5DAtSmJ6Alwq6VB0lJqS/A+vwL40TQFZWVTS6yI3iEiojTHpUHInV2+BQzZAHy6234dhqq5rVVhKzv23DgRuQAuDUIswENERESPLZs/MM2SLK5vBVTKqYMmG88B4YuAN9cB127rIBGRkzGZdBIuDUJERESOVjUPsKk18FFNINBal/CORAOYtBMoswBYdJD1GojI+ZhMphF+nhMREZEjpLd8e/t3RSCqA9C6uA6anLwOtPkZaLYSOHzvamhERA7FZNJJODBJREREzlQwEIh4DljRFChqZ7nslceAsG+B97cCtxN0kIjIgZhMphFONSEiIiJneKEIsLs98E5l66il2c14S3wD8NR3wNpTOkhE5CBMJp2E10wSERFRWgnIALxbHdjeFqiVVwdNdkcDdZYBr/4GXLipg0REqcRkMo1wYJKIiIicLSw7sLoF8GV9IEdGHTT5cg8QugCYZbnnrCkiSi0mk07CgUkiIiJ6EtJZvoR0DwX2dABesdwndTHWEv8NqLsM2H1JB4mIHgOTSSIiIiIPlDMT8EV9YPWLQNlgHTRZexqo9B0weD1wI04HiYhSgMlkGuFUEiIiInoS6uQHtrUF3qsGZEqvg1p8oiW+zVr1deVRHSQiSiYmk07Caa5ERETkKvx8gUFPWau+Ni2sgyZHrgEvrATa/ASciNFBIqJHYDKZRjgwSURERE9asSzWdSkjngXyZ9ZBk0WHgDILgMk7raOWREQPw2TSSbg0CBEREbki+Y7SuoS1QM+/K1i+DCb5zhITZ4mvA55eBKw/o4NERHYwmUwjHJkkIiIiVxLkB3z0DLC5tSVxzK2DJtsvADWXAD1XA5didZCIyITJpJNwYJKIiIjcQeVcwF8tgWm1gSyWBNNMTobP+BsInQ/M4dqURJQEk0kiIiIiL+dr+Ub4r3LA3o5Ap1I6aHI+FujGtSmJKAkmk2mEZ/KIiIjI1eUNAOY1AiKbAyFZddDEtjblwL+A61ybksjrMZl0EhbgISIiInfVsCCwsz0wpiqQ0VcHNany+sF2a9XXpYd5wpzIm7l0Mjl16lSEh4fD398f3bp101Fg3rx5CAwMvHMLCAiwJG8+2LJli2ofOXIkMmTIcM9jDh06pNrEkSNHUL9+ffW80NBQREZG6hbn4ecsERERuRN/SxI5tAqwu4P9tSmPxwAtfwSa/wAcvqqDRORVXDqZzJ8/P4YOHYpXXnlFR6w6d+6MmJiYO7dPPvkExYsXx1NPPaUfAbRv3/6ex0i7TceOHVG5cmVcvHgR48aNQ5s2bXD+/Hnd6hgcmCQioodZsGABypQpg8yZM6NEiRJYu3atis+cORMlS5ZUJ0KbNGmCU6dOqbgYP348ypUrh6CgIBQrVkztEzlbcb025eLngIJ21qb8/igQ9i3w7hbgdoIOEpFXcOlkslWrVmjRogVy5MihI/bNmTMHXbp0UaOTj7Jv3z5s3boVo0aNQqZMmdC6dWuUL18eixYt0o9wDk4BISIim1WrVmHgwIGYNWsWrl27hjVr1qiTnqtXr8bgwYOxbNkyXLp0SSWMcgLUxrB0Jl999RWio6Px448/qhk8kpQSOZt8xWpZHIiy/HN8uyLgm+Qr1814YMhGoOJC4NcTOkhEHs/tr5k8evSo6oQlmTRbvnw5smfPjrCwMHz66ac6CuzevVt12HJW16ZixYoq7kgcmSQiogcZMWIEhg8fjurVqyNdunQoUKCAuknf1bZtW9V3+fn5YdiwYaqPO3jwoHregAED1Cyc9OnTo3Tp0njxxRexbt061UaUFgIzAONrAtvaAs/k1UGTPZeBhsuBlyKBMzd0kIg8ltsnk3KGtnbt2ursrU27du0QFRWlpq5+/vnnGD16NObPn6/aZMpr1qz3lieTfTkz7EwcmCQiIpGQkIDNmzerPkqmsxYsWBB9+vTBzZs31cij3Gxs27t27VL3ZtImU2Ml8SRKa+VzAGtaAF/WB3Jk1EGTefuta1NOs/zTTUjUQSLyOB6RTHbt2lXvWZUtW1Zdb+nr64uaNWuiX79+iIiIUG1yDcrVq/deJS775pFKR2A1VyIisufs2bOIi4tT/ZIkg9u3b8e2bdswduxYNG3aFAsXLsTOnTtVciknQ+USjhs37h/ikWJziYmJ6N69u44Qpa10lu863UOta1P+s4wOmly5DfRZC1RfDGw+p4NE5FGclkxK0Rx7o33Xr1+/r6DO45KpPVKYQAroPIx0xLazu3IGVyq7ml/bjh07eGaXiIiSJbX9m1yvL/r27Yt8+fIhZ86c6N+/P1auXImGDRuqa/rlev4iRYqgaNGi6mSnjF6aybWScjL1+++/VxXPiZ4kGZmcUQ/4syVQ0U6Zi83ngaqLgN5rgMu3dJCIPILTkkkpiiNnVZOSmHSAyREfH4/Y2Fg1JUhusi0xG/kd0uEmHVWUwgVSnEASyI0bN+Ljjz9W15WIkJAQVKpUSXXW8vOWLFmizgDLz3EmTnMlIvIMqe3fgoODVXL4oKJxvXv3xv79+3Hu3DnVN0m/JxVcbb788ku8//77+OWXX+5LMomepBp5LYljG2BiTeu1lWbyPeiT3UDp+cDcfTJN2xonIvfmtGRSErmkHaXE/vjjD+TKlUtHHk6m/MgZXOk0586dq7YlJiQRlKlASae4CqlsJ9ehSJIphXmkYp75cdIu16tIhz5o0CA11Si5rym5OMuViMgzOaJ/k6mpU6ZMUQmjnPycNGkSmjVrpvo2uT5Sft6xY8fQo0cPdamG9FdC1lmWaq9SDda85BWRq0hv+Wb5ZkVgTwegbQkdNDl3E3j5F6Dhfy2PidZBInJbPpYOy6HnhqQq3YPOttpIxzhx4kS955quXLmit6wFelKq7U9AxCG9Y/FtY6BdSb1DRERpLrWf647s3+SaSXnsN998g4wZM6rCcR988IFKJuvUqaOqt8oJUUk65SSq1AAQUmzuxIkT90xtfemll/DZZ5/pPavUvlciR/npGNB7LXDw3nIVSgZL4vl/lYAhTwEBSUYyieguV/5Md3gyKWdN5UfKiKBc02F+w1LmXDrC8PBwHXFdqf1La/cz8J21krvCZJKI6MlK7ee6O/VvTCbJlcTGA+9vA97bCty2U9m1aBAwpRbQrKgOENE9vCqZtJGFl5955hm1FpY7cnQyucCSTLZnMklE9MQ4qjN2h/6NySS5ov2XraOUq07oQBItigGTnwEKO7bAPpHbc+XPdKddM1mqVCl1LYiNlD3/v//7P8yePVtHPBuvmSQi8kze3r8RPa5S2YCfmllna+UL0EGTpYeBMguAD7YBcQk6SEQuzXekLFTlBM2bN0fmzJlRuXJlXLx4EVWqVMHp06fx7bffqrO5clbXld26dbd2tVzPklIRB4HdpgvLWxcHytkpl01ERGkjtZ/rNu7QvznqvRI5mlx2HJYd+GdZINaSMG48h3sq3sclApEngEWHgPKWxxXhKCWRS3+mO21kUqrRVatWTW0vXrxYVZ37+++/VUn1mTNnqrgne0SNBiIiclPe3r8ROUIWP+CjZ4AtbYDqeXTQ5O9ooO4yoNuvwPn7V+IhIhfhtGRSFm/OkiWL2v7111/VmVwhxQmOHz+utomIiNwN+zcix6mUE1jXEphRFwi+W6T4jjl7rWtTTt8NJHJtSiKX47RkUqrarVmzBjExMWo9rEaNGqn4+fPnVblzb8PPPyIiz8D+jcix0vlYp73u7Qh0K62DJtG3gF5rgBqLgW3ndZCIXILTksn+/fujW7duKFSoEAoXLnznGhLpgMuVK6e2PRlnuRIReSZv79+InCVXJmBWA8v/pReBsGAdNJHrK8MXAf3+AK7e1kEieqKctjSI2Lp1K44dO4bGjRurYgXiv//9L4KDg1G7dm2176pSW4K34ypgwQG9YzGvIdApRO8QEVGac2RpdVfv37g0CLk7qeY6aScwcjNwI14HTaQarFxz2a4E61SQ53Plz3SnJpPuLLV/aZ0syeR8JpNERC7DmxIsJpPkKY5dA/69DlhyWAeSaFQQmFYbCMmmA0QeyJU/0502zVX89ttv6lqSfPnyIX/+/OoM7u+//65bvQszdiIiz8H+jShtFA4CFjcBVjQFitq5JFmWESn/LTBsI3AjTgeJKM04LZmcP3++6mil4t2gQYMwYMAABAYGqpisxeXpOOWCiMgzeXv/RvQkvFAE2N0eGPIUkCHJt9fbicDYLUCY5b/f8iM6SERpwmnTXMPCwvDSSy/hnXfe0RGrd999F998841ap8uVpXY4uXMk8M1+vWMxt6ElxmmuRERPjKOmCblD/8ZpruTJ9kQD/1oD/HZKB5Jobkk8J9cCillX8CFye145zfXAgQNo27at3rurXbt2qs3bcJorEZFnYP9G9GSFBgO//MNajyJvgA6aLD8KlF0AjNsC3ErQQSJyCqclk7ly5cLOnTv13l3bt29XbZ6Os1yJiDyTt/dvRK5ALieSwoZ7OgBvlLd8oU3yxSvWkkQO3QhU+BZYdVwHicjhnJZMyhSgnj17Yvr06fj7778RFRWFzz77DK+//jpefvll/SjvwZq5RESegf0bkevI6m+d0rqlDVAjjw6a7LsCPLsCaPczcCJGB4nIYZx2zWR8fLy6nmTKlCmIi4uzJFMG/P398cYbb2DcuHFInz69fqRrSu3c5Jd/Aebu0zsWXzWwxErrHSIiSnOOuubEHfo3XjNJ3ijR8o129h5g4HrgQqwOmmS2/Ncc+TTQrzyQwVcHidyAK3+mOzyZTExMVMUHSpUqhUyZMuHmzZt3riEpUaKE2i5XrhzSpXPaoKhDODqZnGNJJrswmSQiemJS+7nuTv0bk0nyZpcsieTgDcCMv+3XrAgLBj6pA9TJrwNELs6VP9Md3uPNmzcPXbp0gZ+fn9qXDrd8+fLqJjFpS27p9KlTpyI8PFyd8e3WrZuOAkeOHIGPj48qxW67jRkzRrfKlFIDAwcORI4cOdRNyrabc2Z5fv369REQEIDQ0FBERkbqFsfhNZNERJ7Fkf0bETlP9ozAZ3WB9a2AKnYuY94dDdRdZj3xf+aGDhLRY3F4MvnFF1/grbfegq/v/fMHZOrP22+/jRkzZujIw8lC0EOHDsUrr7yiI/e6fPkyYmJi1G3YsGE6CvXzly5dih07dqgiCStWrFDXtth07NgRlStXxsWLF9WUpDZt2uD8+fO61TkcO/5LRERpzZH9GxE5X9U8wAZLQvlJbSCb9RzQPWQGWen5wNT/AQmJOkhEKeLwZHLPnj2oWbOm3rtfjRo1VLGC5GjVqhVatGihRhdTYs6cOarDL1iwIAoUKKC2Z8+erdr27duHrVu3YtSoUeqscuvWrdVZ5UWLFql2R+HIJBGRZ3Fk/0ZEacPX8k339XLA3o5AVzuXG129DfT9A3ja8jVw/RkdJKJkc3gyKXN6pSDBg9y+fRtXr17Ve6lTpEgRlTB2794dFy5c0FFg9+7dqFixot6D2paYkPvixYsjKChI7QtzOxERkT1p2b8RkWPlDgBmNwDWtgDKZ9dBk22Wr5E1lgD//B24aKd4DxHZ5/BkUhI8WWvrQaStcOHCeu/x5MyZE5s2bcLRo0exZcsWXLt2DZ07d9atUNNezRenyrbE5LrJpG1C9uVnOBNnuRIRube06N+IyLlq5bMuIzKxJhCYQQdNZkYBId8An/9trQ5LRA/n8GTyH//4h7p+UZK2pOSM7YgRI9C8eXMdeTxScEcK88g1Knny5FGFen7++ec7Z4Sl3Xx2WLYlZivak/TMseybRyodQRbTJSIiz5EW/RsROZ8sC/JmRevU1w4lddDk0i2gx2qg5mJgq3NLahC5PYcnk4MGDVJTfUJCQvDee++pQjjLli3Du+++qyqn3rp1Sz3GkSRJFLaKrWFhYar4jo1sS0zI/aFDh+4ZiTS3OwtPbhERubcn0b8RkfPkzwzMbwxENgdKZ9NBkw3nrNdS9l0LXLYkmER0P4cnk9mzZ8eff/6JKlWqqDO4UkSnZcuWGD58uIr98ccfyS6oIwtDx8bGIiEhQd1kW2IbNmzA3r171ZpfUpFVFoquV6/enemrUp594sSJOHnyJE6dOoUJEybcWVpEvgRUqlRJFeCRn7dkyRJV8VUK8TgSByaJiDyLI/s3InIdDQsCO9sB71UDAtLroCZTXafuslZ9/Xovq/MTJeVjmBdgdLDo6Gi1iLP8ClnkOTg4WLckz8iRI1XSZybTiEqXLo3Bgwfj3LlzyJIlCxo3bowPPvgAefPmVY+R3yfrTM6cOVPtv/baa/jPf/5zZwRT1pmU5FKSUrm+Zdq0aWjUqJFqs0nt4qDdfwVmWz50bL6oB7xSRu8QEVGac+Siz6nt35zNlRe4JnJlR68B/14HLD2sA0nUyQdMqw2U43kjSkOu/Jnu1GTSnaX2L+2V34BZe/SOBZNJIqIny5sSLCaTRKmz8qh1yZBDdgo0+/pYEs4KwIhwIMjO+pVEjubKn+kOn+ZK9jFjJyIiInIPTYsAu9pbE0Z/Xx3UEixf6ibsAMosABYe4NRX8m5MJomIiIiIksiUHhj5tDWpfN7Oqj8nrwPtVwHPrQD2XdZBIi/DZNJJWICHiIiIyP2VzAp83xRY/BxQKFAHTVadAMp/CwzdANyI00EiL8FkMo1wCgQRERGRe5Iaji2LA1EdgIGVgfRJvkHfTgTGbQXKWpLK/z6geA+RJ2Iy6SQcmSQiIiLyLJkzAO9Xty4lUj+/DppINdgXfwSarwQO2yneQ+RpmEymEQ5MEhEREXmGMsHAL/8AvmkE5AvQQZMVR4GyC4Axm4FbCTpI5IGYTDqJXtKSiIiIiDyQfNfrWArY09G6VIgsGWIWa0kih28Cyn0L/HRMB4k8DJPJNMKRSSIiIiLPk8UP+OgZYEsb4Jm8Omhy4ArQ5Hug7U/AiRgdJPIQTCadhAOTRET0MAsWLECZMmWQOXNmlChRAmvXrlXxmTNnomTJkggMDESTJk1w6tQpFReGYWDgwIHIkSOHug0YMEDFiOjJq5gTWNMCmFUfyJlRB00iDgGh84EPtgG3OfWVPASTSSIiojS2atUqlRTOmjUL165dw5o1a1C8eHGsXr0agwcPxrJly3Dp0iUUK1YMHTt21M8CZsyYgaVLl2LHjh3YuXMnVqxYgenTp+tWInrS0vkA3UKBvZb/tr3K3j+4cD0eGLjeknguBCJP6CCRG2MymUZ44piIiGxGjBiB4cOHo3r16kiXLh0KFCigbsuXL0fbtm0RFhYGPz8/DBs2TCWaBw8eVM+bM2cO3nrrLRQsWFA9XrZnz56t2ojIdWTPCHxaF9jQGgjPpYMmey4DjZcD7X/m1Fdyb0wmnYQFeIiIyJ6EhARs3rwZ58+fV9NZJTHs06cPbt68qaasmqet2rZ37dql7nfv3o2KFSuqbSHbEiMi1/R0bmB9K0tiWQcI9tdBk4UHOfWV3BuTyTTCgUkiIhJnz55FXFwcIiIi1HWS27dvx7Zt2zB27Fg0bdoUCxcuVFNYJbkcPXo0fHx8cOPGDfXcmJgYZM2aVW0L2ZYYr5skcl2+lm/bvcKAfR2B18rooAmnvpI7YzLpJByYJCIiezJlyqTu+/bti3z58iFnzpzo378/Vq5ciYYNG2LUqFFo3bo1ihQpgqJFiyIoKEiNXgopynP16t2V0GVbYpJwEpFry2n5r/95PetIZZWHTH1tx6mv5EaYTKYRnjQmIiIRHBysksMHJYC9e/fG/v37ce7cOZVUxsfHo1y5cqpNrqWU4js2si0xInIf1fIAGywJ5WcPmPr6nZ76+h9OfSU3wGTSSXiOmIiIHqR79+6YMmWKShijo6MxadIkNGvWDLGxser6SJm2euzYMfTo0QP9+vVTCajo0qULJk6ciJMnT6olQyZMmIBu3bqpNiJyHzL1tecjpr4OWg9U4NRXcnFMJtMIByaJiMhGqrQ+/fTTCAkJUWtNVq5cGUOGDFHJZKdOndTU1apVq6JGjRoYM2aMfpbly2fPnmjevDnKly+vRitfeOEFFSMi9/Soqa97OfWVXJyPwav27bpy5YreshY4SKl/rQE+NRXYm1bbErPOUiIioicgtZ/r7sSb3iuRp0hIBGZGAe9sAKJv6aBJ5vTAsHDgzQqAn68Okldw5c90lx6ZnDp1KsLDw+Hv73/PNJ7169ejcePGyJ49O3LlyqXW5Dp9+rRuBUaOHIkMGTKoM7u226FDh3QrcOTIEdSvXx8BAQEIDQ1FZGSkbiEiIiIiSnvmqa//LHP/JVOc+kquyKWTyfz582Po0KF45ZVXdMRKri+R60gkKTx69KiqdCfXn5i1b99elUu33YoXL65bgI4dO6opRRcvXsS4cePQpk0btd6XM3H4l4iIiIgeRaa+ztBTX8M59ZVcnEsnk61atUKLFi2QI0cOHbF6/vnn1WhklixZ1OiiLPa8bt063fpw+/btw9atW1XpdSnPLpXy5NqTRYsW6Uc4BgvwEBEREdHjqprHmlCy6iu5Mo8owLNmzZr7SqMvX75cTYOV+KeffqqjwO7du9UopYxm2lSsWFHFnYlXphIRERFRSnDqK7k6t08md+7cidGjR2P8+PE6ArRr1w5RUVFq6urnn3+u2ufPn6/aZMpr0gtXZf/atWt6zzG4fjQREREROUJKpr4e59RXSkNunUweOHBATXmdPHkyateuraNA2bJl1fWWvr6+qFmzplqjKyIiQrVJMZ6rV6+qbRvZN49UOgMHJomIiIgoNcxTX7Nz6iu5ALdNJqXwTqNGjdRaXS+//LKO2ufj46MWgBYy7VUqu5pHInfs2HHfNNnU4sAkERERETmaberr3gdMfb3Bqa+Uhlw6mYyPj1cLOCckJKibbEvs5MmTaNCgAXr37o1evXrpR9+1bNkyVfFVEsiNGzfi448/xosvvqjaZIHoSpUqqQI88vOWLFmipspKIR5n4jWTREREROQonPpKrsClk8mxY8eqiqvvv/8+5s6dq7YlNnPmTDW6KAmheS1JmwULFqBkyZJq6mqXLl0wcOBAdO3aVbda2zdv3ozg4GAMGjRITYGV9SqJiIiIiNwJp77Sk+Rj2OZ/0j2uXLmit6wFelLqjT+AKf/TOxaTn7HEKugdIiJKc6n9XHcn3vReieiuCzeBwRuAmVH263WUzmb5floLaFxIB8gtuPJnulsX4HEnzNiJiIiIyJmSM/X12RVA25849ZUcg8mkk7AADxERERE9Cbapr9Pr2p/6GnGIU1/JMZhMphFOJiYiIiKitCJVX3uUBfZ1st4/rOrrquM6SJRCTCadhCOTRERERPSk5choHaHk1FdyBiaTaYQDk0RERET0pCR36uv7Wzn1lZKPyaST+HBokoiIiIhcSHKmvr6zgVNfKfmYTBIREREReRHb1NcNrR8+9bXNT8DRazpIZAeTyTTCaa5ERERE5Eqezv3wqa+LDgFlFgBjtwCx8TpIZMJk0kk4y5WIiIiIXN2jpr7etCSRwzYCYd8CK47oIJHGZDKNcGkQIiIiInJV5qmvMmKZ1KGrQPMfgGYrgQNXdJC8HpNJJ2EBHiIiIiJyN7aprzPrATktCWZS3x8FwhYAQzcA1+N0kLwWk8k0woFJIiIiInIH6XyAV8tYp772KWfdN7udCIzbar2eMuIgZ+B5MyaTTsKBSSIiIiJyZ8H+wJTawNY2QK28OmhyPAZo+zPQeDkQFa2D5FWYTKYRnrEhIiIiIndUMSewpgUwtyGQN0AHTX45aV2b8u0/gau3dZC8ApNJJ+HIJBERERF5CqkH0jkE2NvRkjRWBNInySLiE4EJO4DQ+cC8fRxI8RZMJomIiIiIKFmy+AHjawI72wENC+igyekbwEu/AHWWAjsu6CB5LCaTaYQnZ4iIiIjIU5QJBlY1ByKeBQoF6qDJH2eApyKAvmuB6Fs6SB6HyaSTcGkQIiIiIvJk8n23dQkgqgMwtArglySzSDSAqbuAkG+AL6Ks++RZXDqZnDp1KsLDw+Hv749u3brpqNUvv/yC0NBQBAQEoH79+jh69KhukTnaBgYOHIgcOXKo24ABA1TM5siRI+o58lz5GZGRkbrFefh/h4iIiIg8UeYMwJiqwG5LUvlCER00uRALvPY7UH0xsPGsDpJHcOlkMn/+/Bg6dCheeeUVHbG6cOECWrVqhTFjxuDSpUsq4Wzfvr1uBWbMmIGlS5dix44d2LlzJ1asWIHp06frVqBjx46oXLkyLl68iHHjxqFNmzY4f/68bnUMDkwSERERkTcpmRVY0RRY/jxQPIsOmmw6B1SzJJSv/Qacv6mD5NZcOpmUhLFFixZqdNFs8eLFCAsLQ9u2bZExY0aMHDlSJY579uxR7XPmzMFbb72FggULokCBAmp79uzZqm3fvn3YunUrRo0ahUyZMqF169YoX748Fi1apNqdhRWtiIiIiMgbNCsK7G5vHa3MlF4HTb6wfGWXqa/TdlmrwJL7cstrJnfv3o2KFSvqPSBz5swoUaKEiouk7bJtbitevDiCgoLUvjC3OwqvmSQiIiIib5XRkkTKdZRyPWXr4jpocvk20GctEB4B/HFaB8ntuGUyGRMTg6xZs+o9K9m/du2a2k7aLtsSk+smH/VcIiIiIiJyjCJBQMRzwM/NgNBsOmiy4yJQeynw8i/A6es6SG7DLZPJwMBAXL16Ve9Zyb5ttDFpu2xLzMfH55HPdRbOciUiIiIib9W4kCVxbAeMr2H5rp5BB03m7gNC5gMTtgNxCTpILs8tk0m5XlKukbS5fv06Dh48qOIiabtsm9sOHTp0z0ikud1ROMuViIgeZsGCBShTpsydSzXWrl2r4gsXLlRxOclZtmxZVVDO5tatW+jVqxfy5MmD7Nmzo3nz5jh58qRuJSJybX6+wNuVgL0dgc6ldNAkJs7S/hdQ8Tsg8oQOkktz6WQyPj4esbGxSEhIUDfZlljLli2xa9cuVTRHYqNHj0aFChXUMh+iS5cumDhxoupgT506hQkTJtxZWiQkJASVKlVSBXjkuUuWLFEVX6UQjzOxAA8REdmsWrVKLWE1a9YsdXJzzZo16np+6bdeeukl1YfJrJnx48ejU6dOOHfunHre5MmT8ddff6l+S/q3bNmyoW/fvqqNiMhd5M8MzG0ErH4RqHBvnU0lKhpovBxo+xNwjFeiuTSXTibHjh2rKq6+//77mDt3rtqWWK5cuVQiOWTIEAQHB2PDhg3qDK9Nz5491dlaqdJarlw5vPDCCypmI4/dvHmzeu6gQYMQERGhfqYjcWSSiIgeZMSIERg+fDiqV6+OdOnSqcrjcjtx4oRKEJ9//nl1aYb0XzJyKbNvxOHDh/Hcc8+pkUmpZt6hQweHF5AjIkordfIDW9oAU2oBWf100CTiEBBq+Yo/bgsQG6+D5FJ8DPNq/nTHlStX9Ja1QE9KDV4PvLdN71iMrQoMqaJ3iIgozaX2c91RZKaNnByVWTUzZ85Us2RkGSwZhfTz80ODBg3UklaSSC5fvhx9+vTB3r17VVIpJ0L79euH7777TiWdr732GnLnzo1Jkybpn27lKu+ViCi5zt2wfH/eYF02xJ4SWYDJlqTzhSI64EVc+TPdLa+ZdAdcGoSIiOw5e/Ys4uLi1KwYuU5y+/bt2LZtm5p54+vrqy7VkKmt/v7+6n769OkqkRRyqUbhwoXVKGaWLFkQFRWlRjiJiNxd7gBgZn1gfSsg3M6EwYNXgWYrgeaW28G7uRU9YUwm0wiHf4mISMiopJBrHfPly4ecOXOif//+WLlyJSIjIzFgwAD8/vvvuH37NlavXq1GHyXhFK+//roaybx48aIqPteqVSs1JZaIyFNUywNsaA3MqAvkyKiDJiuOAmHfAsM2AjfidJCeGCaTTsKBSSIiskeu1y9YsKC6JjIpSRrr1KmD8PBwdS3l008/jWrVqqkkU0j1cSkoJ5VcZeRSEtKNGzfiwoULqp2IyBOks3w8/rMssK8j8K8w677ZrQRg7BagzAJg8SEWunySmEwSERGlse7du2PKlCmqSmt0dLS65rFZs2YqebRNfRUy/VX2pWK5kPavvvpKXT8jU2U/+eQT5M+fX41uEhF5muwZgWl1gM2tgZp5ddDkWAzQ+ifg2RXWCrCU9phMphGeMSEiIpthw4apxFCugZQ1JStXrqwqlNetWxcjR45EmzZt1DqTsmzV4MGD8eyzz6rnffjhh6qKa6lSpVQVcpkaK0tcERF5ssq5gD9aAF81APIG6KCJrElZYSHw1p/A1ds6SGmC1VwfILVVk2Qetwy/24x+2hIL1ztERJTmvKnCKau5EpGnkmRx9GZg8v+A+EQdNMmTCXi/OtCl9P3TY90Vq7kSC/AQEREREaVSFj/gw5rAjrZAgwI6aHL2JtD9N6DmYmDTOR0kp2Ey6SQswENERERE5BxlswORzYGFzwKFAnXQZIMlkay2CHjNkljKGpbkHEwm0wgnExMREREROY4UxW5bAtjTARheBfD31Q2afP3+Yg8QMh+YvBOIS7DGyXGYTDoJRyaJiIiIiJwvIAMwqioQZUkqWxTTQZMrt4F/rwMqfwf8ekIHySGYTKYRDkwSERERETlPsSzAkibAT82A0Gw6aLI7Gmi4HGj7E3D0mg5SqjCZJCIiIiIij/FsIWBHO+DDGkBQBh00iTgElFlgrQp7M14H6bEwmXQSmcNNRERERERpz88XeKsSsK8T0K20DppIEjliE1DWklQusSSXrG/yeJhMphH+AyUiIiIiSlt5A4BZDYC/WgLhuXTQ5Mg1oNVPwHMrgKhoHaRkYzLpJByYJCIiIiJyDdXzAhtaAzPrAbky6qDJqhNAhYXAW38CV27pID0Sk8k0woFJIiIiIqInJ50P8GoZ69TXN8oDvklGf+ITgYk7gNLzgdl7gER+gX8kJpNOwmsmiYiIiIhcTzZ/YHItYHtboH5+HTQ5exPo/htQczGw6ZwOkl1MJtMIT2wQEREREbmOcjmAX/4BfPcsUDhQB002WBLJqouAVy2J5bkbOkj3cNtkMjAw8J6br68v+vbtq9qOHDkCHx+fe9rHjBmj2oRhGBg4cCBy5MihbgMGDFAxR+LAJBERERGRa5PZhG1KAFEdgOFVAH9f3WDy5R4gZD4weScQl6CDpLhtMhkTE3PndvbsWWTKlAlt27bVrVaXL1++85hhw4bpKDBjxgwsXboUO3bswM6dO7FixQpMnz5dtxIRERERkTcJyACMqmpNKlsU00GTK7eBf68DKn8H/HpCB8kzprlGREQgd+7cqF27to483Jw5c/DWW2+hYMGCKFCggNqePXu2bnWMDEmO7C2exSAiIiIicmnFsgBLmgA/NQNCs+mgye5ooOFyoM1PwNFrOujFPCKZlOSwS5cuamqrWZEiRVTC2L17d1y4cEFHLf8Idu9GxYoV9R7UtsQcKTCD3tCux+kNIiIiIiJyac8WAna2AybUBIKSfK8Xiw5Zks35wKhNwM14HfRCbp9MHjt2DKtXr0bXrl11BMiZMyc2bdqEo0ePYsuWLbh27Ro6d+6sW61TZLNmzar3oLYl5sjrJjMn+UcXw2SSiIiIiMhtZPAF+le0LiXSrbQOmsQmACM3A2UXAEssyaWDS7C4BbdPJr/66ivUqlULxYrdndwsBXfCw8ORPn165MmTB1OnTsXPP/+Mq1ev3mm3bQvZlljSkc3UuG9k0ovPWBARERERuau8AcCsBsBfLYHwXDpocuQa0Oon4NkVQFS0DnoJj0gmzaOS9tiSRNvIY1hYmCq+YyPbEnOkwPR6Q+PIJBERERGR+6qeF9jQGphZD8iVUQdNIk8AFRYC/dcBV27poIfzsSRYbjsg++eff6Jx48Y4c+YMgoKCdNTyl7xhA7Jly4ZSpUohOjoa//rXv3Du3Dn89ttvqv2zzz7D5MmTERkZqRJN+RmyrEivXr1Uu7hy5Yresk6DTam1p4A6y/SOhZ8lbf+zlTV7tw2Ayp1sq3vztvwh97abKW67F2pbbqa4OSbsxW334p6YeVv+kHvbzRS3xcR9cVsDEZGLSe3nujvxpvdKRPQkXLYkiyM3AVN3AQl2sqncmYD3qwNdS1u+/6fy+7Erf6a7dTLZs2dP3LhxA19//bWOWM2fPx+DBw9WCWSWLFlUsvjBBx8gb968ql3esqwzOXPmTLX/2muv4T//+Y8lEbr7N53av7St54EqEXrHC9mO5H3JZpKYsBe3xYS9uG1bJLvdvK3vhb24eVsku928re+FvbhtW9wTt93rbWEvbr4X9uKPbNfbwl7cdi/sxc33wl7cti3sxW33wl7cdi/UttxMcVtM2IubY+KemHlb/pB7280Ut8WEvbhtWyS73bxtion74rZ7aZR7O3HbtrAXT1G73JLEzdsi2e3mbX0v7MUf1p7ecsuYZMZHSjGZJCIiR9t1EXjjD+C3UzqQRLXcwJTawNOW+8fFZNINpfYv7dBVoMQ8vUNERKnyXCHgx2Z65zExmSQiImeQbEqqu771J3AsRgdNAtIDJ7oAwf46kEKu/Jnu9tdMuqpiQUDFHHqHiIhSRUYoiYiIXJHMoGlTAojqAAyvAvj76gZtYOXHTyRdHUcmH8ARZwDO3AAm7gBWn7LOpZYjbZtTLXeyf8+93hb24rZ7YS9ujol74rZ7vS3sxW33wl7cFhNJ40REzvJ8YWDlC3rnMXFkkoiI0sLhq9ZRyiWHgaJBwN+WJDNTKi7VcOXPdCaTD8CO+PGYE0y1r7fVvXlb/pB7280Ut8XEfXHbvTTKvZ24bVvYi5vvhdqWmyluiwl7cdu2SHa7eVvfC3tx83OEvbhtW9iLp6hdbknitm1hL26+F49sl1uSuG1b3BO33ettYS9uuxf24uaYuCduu9fbwl7cdi/sxW0xcV/cdq+3hb247V7Yi9vuhdqWmyluiwl7cdu2sBc33wu1LTdT3BYT9uK2bWEvnqJ2uSWJyzTXxU2k9fExmSQiorS06rj1vrGlD0sNJpNuiB0xEZFnYTJJRETuyJU/03nNJBEREREREaUYk0kiIiIiIiJKMSaTRERERERElGJMJomIiIiIiCjFmEwSERERERFRijGZJCIiIiIiohTj0iAPYC7BS0REnsWblgYhIiLPwaVBiIiIiIiIyO0xmSQiIiIiIqIU4zRXIiIiIiIiSjGOTBIREREREVGKMZkkIiIiIiKiFGMy6SSXLl1Cy5YtkTlzZhQpUgTffPONbvFMt27dwquvvqrea1BQECpXrowffvhBtwK//PILQkNDERAQgPr16+Po0aO6BZCZ1gMHDkSOHDnUbcCAASrmCfbv34+MGTPipZde0hHvPRZiwYIFKFOmjPp/UaJECaxdu1bFvfGYHDlyBE2bNkVwcDDy5s2LPn36ID4+XrV5+vGYOnUqwsPD4e/vj27duumoVWreuxxTeY48V35GZGSkbiF3wH7k8bCfST72QcnnzX3Uo7APS8LyJsgJOnToYLRr1864du2aYfmwMrJkyWLs2rVLt3qemJgYY8SIEcbhw4eNhIQEY/ny5UZgYKDaP3/+vHr/CxcuNG7evGm8/fbbRrVq1fQzDeOzzz4zQkJCjOPHjxsnTpwwLB/0xqeffqpb3Vvjxo2NWrVqGZ07d1b73nwsfv75Z6Nw4cLGX3/9pf6NyPuTm7cek+eff97o2rWres+nT582ypUrZ0yePNkrjseiRYuMJUuWGL169VLHwCa177169erGm2++ady4ccOIiIgwsmbNapw7d063kqtjP/J42M8kD/uglPHmPupR2Ifdi8mkE0iHmCFDBmPv3r06YhgvvfSSMXDgQL3nHcqXL6/+M0yfPt2oUaOGjlqPT8aMGY2oqCi1L23yGJuZM2fe85/PXc2fP99o27at+nJk6+S99VgIeW/yfpLy1mMSGhpqfP/993rPUJ1Ojx49vOp4DBky5J6OODXvXT5v/fz8jKtXr6p9IV+wvSWh8FTe3o88CvuZ5JP3Le81KR4v+9hHPRr7MCtOc3WCffv2wdfXFyEhIToCVKxYEbt379Z7nu/s2bPqOISFhan3Le/fxja9xHY8krZ7wrGyfBhg+PDhmDBhgo5YeeOxEAkJCdi8eTPOnz+PkiVLomDBgmrKzM2bN732mPTr109Nubpx4wZOnjyppvM1adLEa4+HSM17l/vixYur6ZE2nnRsvJG39yOPwn4m+dgHpRz7qJRLzbGRe3ftw5hMOkFMTAyyZs2q96xk/9q1a3rPs8XFxaFz587o2rWrmvP9qOORtF22JWa48Rz7YcOGqWt/ChUqpCNW3ngshHwplH8XERER6hqV7du3Y9u2bRg7dqzXHpO6deuqTiJLlizqi41cf9GiRQuvPR4iNe/9Uc8l98J+5NHYzyQf+6CUYx+Vcqk5No96ritjMukEgYGB6oyhmeybzzZ4qsTERLz88svw8/NTFyiLRx2PpO2yLTEfHx8dcS/SSclF02+++aaO3OVtx8ImU6ZM6r5v377Ily8fcubMif79+2PlypVeeUzk/8lzzz2HVq1a4fr167hw4QKio6PVhfneeDxsUvPeH/Vcch/sRx6N/UzKsA9KGfZRjyc1x+ZRz3VlTCadQKa3SsUrqbBms2PHDjVVx5PJmRU5SypnABctWoQMGTKouLxvef828sF08ODBO8cjabu7H6vff/9dVeQqXLiwqoD24YcfquPx1FNPed2xsJFqcHJm015n4o3HRKo9Hz9+XE2zkmpwUtWte/fu6ouNNx4Pm9S8d7k/dOjQPWdxPenYeAv2I8nDfiZl2AelDPuox5OaYyP3btuHWT64yQnat2+vKrrGxMQYf/zxh6ru5MnVXEXPnj3VhcSW/wg6YiWVqOT9SxEFqW41YMCAey7GlouL5UJvqWx18uRJo2zZsm5dNMPy4aEqn9lub731ltG6dWt1HLztWJgNGzbMCA8PNyxfEg1LR6UuLB86dKjXHpNixYoZ7733nhEXF2dER0cbLVq0MDp16uQVx0Pes7y3QYMGqeJksi2x1L53eaz8f5PnLl68mNVc3RD7keRhP5Ny7INSxpv7qEdhH3YvJpNOcvHiRePFF180AgICjEKFChnz5s3TLZ7pyJEjMhne8Pf3NzJnznznNnfuXNW+atUqo3Tp0qqqVd26dVWpd5vExETj//7v/4zg4GB1k22JeQpzlT3hrcfi9u3bxuuvv64+HPPkyWP07dtXfWAKbzwm27ZtU+81W7ZsRo4cOYw2bdqoLznC04+H/J+QzwvzTWIiNe9dHivPkedK+XX5WeQ+2I88PvYzj8Y+KGW8uY96FPZh9/KRPywHgYiIiIiIiCjZeM0kERERERERpRiTSSIiIiIiIkoxJpNERERERESUYkwmiYiIiIiIKMWYTBIREREREVGKMZkkIiIiIiKiFGMySeQg3bp1Q6NGjfSea6lXrx5ee+01vUdERHQX+y8ielxcZ5LIQa5cuYLExEQEBwerfen8Dhw4gN9//13tp4WxY8di5syZOHLkiI5YXbp0CenTp0eWLFl05Ml4EseEiIgejv3Xo7H/IrKPI5NEDpI1a9Y7HbGj3b59W289nuzZsz/xjpiIiFwT+y8ielxMJokcxDxNaOTIkfjiiy+wevVq+Pj4qNvs2bNVW0xMDPr164cCBQogICAAlStXxuLFi1WbkLOy8vh58+ahadOmyJw5MwYPHgyZRPDPf/4TJUqUQKZMmVC8eHEVv3Xrlnqe/Pxhw4bh6NGjd36nvA6RdJpQXFwcBg0apF6Dn58fypYti2+++Ua3WsnzP/nkE7z88ssICgpCoUKF8MEHH+hW++Tn9u/fHwULFoS/vz/y5cuHDh06qDZHHJOvv/4aDRs2VO+/WLFi6hgREVHqsP9i/0X02GSaKxGlXteuXQ1LR6G2r127ZnTq1MmoUaOGcfr0aXW7ceOGkZiYaFg6RqNu3brG2rVrjYMHDxrTp083MmTIYERGRqrnHj58WKaeG5aOybB0Puoxhw4dMhISEowhQ4YY69evV49ZtmyZkTdvXmP48OHqefLzBw4caFg6wju/U16HkN/36quvqm3x9ttvG9mzZzcWLlxo7N271xg3bpxh6ezuvAYhryF37tzGjBkzjAMHDhiTJ09WsV9//VU/4n4TJkxQr/u3334zLF8KjI0bNxofffSRanPEMbF07sbcuXONPXv2qGMhr3nTpk3qMURE9HjYf7H/InpcTCaJHMTcGQvp/KSDMZNOyt/f37h8+bKOWHXv3t148cUX1bat4xk9erTaf5iJEycaJUuW1HuGMWbMGKNIkSJ67y5zZ3z9+nXDz8/PmDZtmtq3adGihVG/fn29Z+2M+/btq/esSpcubQwaNEjv3e+NN95QP0M6WHtSe0yGDh2q9m2kY+/cubPeIyKix8H+i/0X0ePiNFeiNLRp0yZ1/YhMhwkMDLxzmzt3Lvbv368fZVW1alW9ddfnn3+OatWqIU+ePOp577zzjpoWlBJSQEBeQ506dXTEytJJYvfu3XrPqlKlSnrLSl732bNn9d79LB0o/ve//8HyBQG9evXCokWLHnm9TEqOiaXz1VtWzzzzDP7++2+9R0REzsL+637sv4h4zSRRmkpMTFSFDrZv337PTTqUH374QT/KSq41Mfvuu+/Qu3dvtG/fHitXrsS2bdswfPhwdZ3H45BrOMwMw7gvJtejmEm7vIcHkc778OHD+PDDD9Vz5ToSiV29elU/4n4pOSZJyWsmIiLnY/91P/ZfREwmiZxGOqOEhAS9ZxUeHo7Lly8jNjZWnf003woXLqwfZd+aNWvUhf1SIKBKlSooVarUfSXU7f3OpOR3SXEBKSRgJj8/LCxM7z0+OSvbsmVLfPzxx9i8eTOioqLu/K7UHpP169frLau//voLZcqU0XtEROQI7L/YfxElF5NJIieRam179uxRU28uXLigqtY1aNBAVcxr1aoVlixZgkOHDmHLli2YMmWKmgL0MKVLl1ZTcJYtW4aDBw9i8uTJ91SME/I7z5w5ozop+Z03btzQLXdJtbk33nhDVc6Ts8UyFefdd99VP1eq66XG+PHjVYU6ec9yhvfLL7+Er68vQkJCVHtqj4lU05Oqffv27VNnteV9/vvf/9atRETkCOy/2H8RJZtBRA6RtIDBxYsXjeeff97IkiWLuvh+1qxZKm6rWle0aFFV8S1PnjzGc889Z/zyyy+q3XaxvlSGM7t9+7bRo0cPIzg42AgKCjI6duxoWDos9VgbeYzE5TESHzFihIqbCxgIeZy8hvz586vXUKZMGcPSiepWK3m+VOMzk/cn7/NBPvvsM+Opp55Sry9z5sxGeHi4sXTpUt2a+mPy1VdfqfciBQ+kUIPsExFR6rD/Yv9F9Lh85A/LP3IiIpcl06HkrLDlCwpq1aqlo0RERK6N/Rd5Ok5zJSIiIiIiohRjMklEREREREQpxmmuRERERERElGIcmSQiIiIiIqIUYzJJREREREREKcZkkoiIiIiIiFKMySQRERERERGlGJNJIiIiIiIiSjEmk0RERERERJRiTCaJiIiIiIgoxZhMEhERERERUYoxmSQiIiIiIqIUYzJJREREREREKcZkkoiIiIiIiFKMySQRERERERGlGJNJIiIiIiIiSjEmk0RERERERJRCwP8DXY8QIMG5eb0AAAAASUVORK5CYII=)"
      ],
      "metadata": {
        "id": "j5fVTeneYrnB"
      },
      "id": "j5fVTeneYrnB"
    },
    {
      "cell_type": "markdown",
      "metadata": {
        "id": "RSOooMjqYU6D"
      },
      "source": [
        "*These results are not inspiring*! Cost is still declining and our predictions are not very accurate. The next lab will explore how to improve on this."
      ],
      "id": "RSOooMjqYU6D"
    },
    {
      "cell_type": "markdown",
      "metadata": {
        "id": "-3QItenkYU6D"
      },
      "source": [
        "\n",
        "<a name=\"toc_15456_6\"></a>\n",
        "# 6 Congratulations!\n",
        "In this lab you:\n",
        "- Redeveloped the routines for linear regression, now with multiple variables.\n",
        "- Utilized NumPy `np.dot` to vectorize the implementations"
      ],
      "id": "-3QItenkYU6D"
    }
  ],
  "metadata": {
    "dl_toc_settings": {
      "rndtag": "15456"
    },
    "kernelspec": {
      "display_name": "Python 3",
      "language": "python",
      "name": "python3"
    },
    "language_info": {
      "codemirror_mode": {
        "name": "ipython",
        "version": 3
      },
      "file_extension": ".py",
      "mimetype": "text/x-python",
      "name": "python",
      "nbconvert_exporter": "python",
      "pygments_lexer": "ipython3",
      "version": "3.7.6"
    },
    "toc-autonumbering": false,
    "colab": {
      "provenance": [],
      "include_colab_link": true
    }
  },
  "nbformat": 4,
  "nbformat_minor": 5
}