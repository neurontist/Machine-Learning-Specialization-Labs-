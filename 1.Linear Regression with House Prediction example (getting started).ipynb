{
  "cells": [
    {
      "cell_type": "markdown",
      "metadata": {
        "id": "Wf1HTrZ1AYVq"
      },
      "source": [
        "# Model Representation\n"
      ],
      "id": "Wf1HTrZ1AYVq"
    },
    {
      "cell_type": "markdown",
      "metadata": {
        "id": "XioxCtmcAYVt"
      },
      "source": [
        "## Goals\n",
        "In this lab you will:\n",
        "- Learn to implement the model $f_{w,b}$ for linear regression with one variable"
      ],
      "id": "XioxCtmcAYVt"
    },
    {
      "cell_type": "markdown",
      "metadata": {
        "id": "n8M-IlLiAYVt"
      },
      "source": [
        "## Notation\n",
        "Here is a summary of some of the notation you will encounter.  \n",
        "\n",
        "|General <img width=70/> <br />  Notation  <img width=70/> | Description<img width=350/>| Python (if applicable) |\n",
        "|: ------------|: ------------------------------------------------------------||\n",
        "| $a$ | scalar, non bold                                                      ||\n",
        "| $\\mathbf{a}$ | vector, bold                                                      ||\n",
        "| **Regression** |         |    |     |\n",
        "|  $\\mathbf{x}$ | Training Example feature values (in this lab - Size (1000 sqft))  | `x_train` |   \n",
        "|  $\\mathbf{y}$  | Training Example  targets (in this lab Price (1000s of dollars))  | `y_train`\n",
        "|  $x^{(i)}$, $y^{(i)}$ | $i_{th}$Training Example | `x_i`, `y_i`|\n",
        "| m | Number of training examples | `m`|\n",
        "|  $w$  |  parameter: weight                                 | `w`    |\n",
        "|  $b$           |  parameter: bias                                           | `b`    |     \n",
        "| $f_{w,b}(x^{(i)})$ | The result of the model evaluation at $x^{(i)}$ parameterized by $w,b$: $f_{w,b}(x^{(i)}) = wx^{(i)}+b$  | `f_wb` |\n"
      ],
      "id": "n8M-IlLiAYVt"
    },
    {
      "cell_type": "markdown",
      "metadata": {
        "id": "IzAjerp-AYVt"
      },
      "source": [
        "## Tools\n",
        "In this lab you will make use of:\n",
        "- NumPy, a popular library for scientific computing\n",
        "- Matplotlib, a popular library for plotting data"
      ],
      "id": "IzAjerp-AYVt"
    },
    {
      "cell_type": "code",
      "execution_count": 1,
      "metadata": {
        "id": "sIMuijsaAYVu"
      },
      "outputs": [],
      "source": [
        "import numpy as np\n",
        "import matplotlib.pyplot as plt"
      ],
      "id": "sIMuijsaAYVu"
    },
    {
      "cell_type": "markdown",
      "metadata": {
        "id": "PsaklTULAYVv"
      },
      "source": [
        "# Problem Statement\n",
        "\n",
        "you will use the motivating example of housing price prediction.  \n",
        "This lab will use a simple data set with only two data points - a house with 1000 square feet(sqft) sold for \\$300,000 and a house with 2000 square feet sold for \\$500,000. These two points will constitute our *data or training set*. In this lab, the units of size are 1000 sqft and the units of price are 1000s of dollars.\n",
        "\n",
        "| Size (1000 sqft)     | Price (1000s of dollars) |\n",
        "| -------------------| ------------------------ |\n",
        "| 1.0               | 300                      |\n",
        "| 2.0               | 500                      |\n",
        "\n",
        "You would like to fit a linear regression model (shown above as the blue straight line) through these two points, so you can then predict price for other houses - say, a house with 1200 sqft.\n"
      ],
      "id": "PsaklTULAYVv"
    },
    {
      "cell_type": "markdown",
      "metadata": {
        "id": "pu73vSk9AYVv"
      },
      "source": [
        "Please run the following code cell to create your `x_train` and `y_train` variables. The data is stored in one-dimensional NumPy arrays."
      ],
      "id": "pu73vSk9AYVv"
    },
    {
      "cell_type": "code",
      "execution_count": 2,
      "metadata": {
        "colab": {
          "base_uri": "https://localhost:8080/"
        },
        "id": "yOcKRS7MAYVv",
        "outputId": "6df3c7ef-e3c7-4608-fef9-6fa38f821aa3"
      },
      "outputs": [
        {
          "output_type": "stream",
          "name": "stdout",
          "text": [
            "x_train = [1. 2.]\n",
            "y_train = [300. 500.]\n"
          ]
        }
      ],
      "source": [
        "# x_train is the input variable (size in 1000 square feet)\n",
        "# y_train is the target (price in 1000s of dollars)\n",
        "x_train = np.array([1.0, 2.0])\n",
        "y_train = np.array([300.0, 500.0])\n",
        "print(f\"x_train = {x_train}\")\n",
        "print(f\"y_train = {y_train}\")"
      ],
      "id": "yOcKRS7MAYVv"
    },
    {
      "cell_type": "markdown",
      "metadata": {
        "id": "xRTwhRafAYVw"
      },
      "source": [
        "### Number of training examples `m`\n",
        "You will use `m` to denote the number of training examples. Numpy arrays have a `.shape` parameter. `x_train.shape` returns a python tuple with an entry for each dimension. `x_train.shape[0]` is the length of the array and number of examples as shown below."
      ],
      "id": "xRTwhRafAYVw"
    },
    {
      "cell_type": "code",
      "execution_count": 3,
      "metadata": {
        "colab": {
          "base_uri": "https://localhost:8080/"
        },
        "id": "HgR0o0JJAYVw",
        "outputId": "614c3e3f-ed76-4715-c43c-3fa48d591d4a"
      },
      "outputs": [
        {
          "output_type": "stream",
          "name": "stdout",
          "text": [
            "x_train.shape: (2,)\n",
            "Number of training examples is: 2\n"
          ]
        }
      ],
      "source": [
        "# m is the number of training examples\n",
        "print(f\"x_train.shape: {x_train.shape}\")\n",
        "m = x_train.shape[0]\n",
        "print(f\"Number of training examples is: {m}\")"
      ],
      "id": "HgR0o0JJAYVw"
    },
    {
      "cell_type": "markdown",
      "metadata": {
        "id": "3HZGey5PAYVw"
      },
      "source": [
        "One can also use the Python `len()` function as shown below."
      ],
      "id": "3HZGey5PAYVw"
    },
    {
      "cell_type": "code",
      "execution_count": 4,
      "metadata": {
        "colab": {
          "base_uri": "https://localhost:8080/"
        },
        "id": "l-tFUE7YAYVw",
        "outputId": "6a36b82b-e5ff-4433-be65-ca326bc19e46"
      },
      "outputs": [
        {
          "output_type": "stream",
          "name": "stdout",
          "text": [
            "Number of training examples is: 2\n"
          ]
        }
      ],
      "source": [
        "# m is the number of training examples\n",
        "m = len(x_train)\n",
        "print(f\"Number of training examples is: {m}\")"
      ],
      "id": "l-tFUE7YAYVw"
    },
    {
      "cell_type": "markdown",
      "metadata": {
        "id": "CDEz-fzUAYVw"
      },
      "source": [
        "### Training example `x_i, y_i`\n",
        "\n",
        "You will use (x$^{(i)}$, y$^{(i)}$) to denote the $i^{th}$ training example. Since Python is zero indexed, (x$^{(0)}$, y$^{(0)}$) is (1.0, 300.0) and (x$^{(1)}$, y$^{(1)}$) is (2.0, 500.0).\n",
        "\n",
        "To access a value in a Numpy array, one indexes the array with the desired offset. For example the syntax to access location zero of `x_train` is `x_train[0]`.\n",
        "Run the next code block below to get the $i^{th}$ training example."
      ],
      "id": "CDEz-fzUAYVw"
    },
    {
      "cell_type": "code",
      "execution_count": 5,
      "metadata": {
        "colab": {
          "base_uri": "https://localhost:8080/"
        },
        "id": "IvYkZEysAYVw",
        "outputId": "89a956d4-ccaa-4ee1-a05b-9476c32124e5"
      },
      "outputs": [
        {
          "output_type": "stream",
          "name": "stdout",
          "text": [
            "(x^(0), y^(0)) = (1.0, 300.0)\n"
          ]
        }
      ],
      "source": [
        "i = 0 # Change this to 1 to see (x^1, y^1)\n",
        "\n",
        "x_i = x_train[i]\n",
        "y_i = y_train[i]\n",
        "print(f\"(x^({i}), y^({i})) = ({x_i}, {y_i})\")"
      ],
      "id": "IvYkZEysAYVw"
    },
    {
      "cell_type": "markdown",
      "metadata": {
        "id": "X52RXZDaAYVx"
      },
      "source": [
        "### Plotting the data"
      ],
      "id": "X52RXZDaAYVx"
    },
    {
      "cell_type": "markdown",
      "metadata": {
        "id": "XF476GVWAYVx"
      },
      "source": [
        "You can plot these two points using the `scatter()` function in the `matplotlib` library, as shown in the cell below.\n",
        "- The function arguments `marker` and `c` show the points as red crosses (the default is blue dots).\n",
        "\n",
        "You can use other functions in the `matplotlib` library to set the title and labels to display"
      ],
      "id": "XF476GVWAYVx"
    },
    {
      "cell_type": "code",
      "execution_count": 6,
      "metadata": {
        "colab": {
          "base_uri": "https://localhost:8080/",
          "height": 472
        },
        "id": "9RIS6yh6AYVx",
        "outputId": "f2b22579-e18c-42b5-874a-52df8d16c466"
      },
      "outputs": [
        {
          "output_type": "display_data",
          "data": {
            "text/plain": [
              "<Figure size 640x480 with 1 Axes>"
            ],
            "image/png": "[encoded data removed]"
          },
          "metadata": {}
        }
      ],
      "source": [
        "# Plot the data points\n",
        "plt.scatter(x_train, y_train, marker='x', c='r')\n",
        "# Set the title\n",
        "plt.title(\"Housing Prices\")\n",
        "# Set the y-axis label\n",
        "plt.ylabel('Price (in 1000s of dollars)')\n",
        "# Set the x-axis label\n",
        "plt.xlabel('Size (1000 sqft)')\n",
        "plt.show()"
      ],
      "id": "9RIS6yh6AYVx"
    },
    {
      "cell_type": "markdown",
      "metadata": {
        "id": "jTp-3G1SAYVx"
      },
      "source": [
        "## Model function\n",
        "\n",
        " The model function for linear regression (which is a function that maps from `x` to `y`) is represented as\n",
        "\n",
        "$$ f_{w,b}(x^{(i)}) = wx^{(i)} + b \\tag{1}$$\n",
        "\n",
        "The formula above is how you can represent straight lines - different values of $w$ and $b$ give you different straight lines on the plot. <br/> <br/> <br/> <br/> <br/>\n",
        "\n",
        "Let's try to get a better intuition for this through the code blocks below. Let's start with $w = 100$ and $b = 100$.\n",
        "\n",
        "**Note: You can come back to this cell to adjust the model's w and b parameters**"
      ],
      "id": "jTp-3G1SAYVx"
    },
    {
      "cell_type": "code",
      "execution_count": 7,
      "metadata": {
        "colab": {
          "base_uri": "https://localhost:8080/"
        },
        "id": "b90qPjHBAYVx",
        "outputId": "4a816f29-e0d5-482d-fe5a-25a34760995f"
      },
      "outputs": [
        {
          "output_type": "stream",
          "name": "stdout",
          "text": [
            "w: 100\n",
            "b: 100\n"
          ]
        }
      ],
      "source": [
        "w = 100\n",
        "b = 100\n",
        "print(f\"w: {w}\")\n",
        "print(f\"b: {b}\")"
      ],
      "id": "b90qPjHBAYVx"
    },
    {
      "cell_type": "markdown",
      "metadata": {
        "id": "bmuz7te9AYVx"
      },
      "source": [
        "Now, let's compute the value of $f_{w,b}(x^{(i)})$ for your two data points. You can explicitly write this out for each data point as -\n",
        "\n",
        "for $x^{(0)}$, `f_wb = w * x[0] + b`\n",
        "\n",
        "for $x^{(1)}$, `f_wb = w * x[1] + b`\n",
        "\n",
        "For a large number of data points, this can get unwieldy and repetitive. So instead, you can calculate the function output in a `for` loop as shown in the `compute_model_output` function below.\n",
        "> **Note**: The argument description `(ndarray (m,))` describes a Numpy n-dimensional array of shape (m,). `(scalar)` describes an argument without dimensions, just a magnitude.  \n",
        "> **Note**: `np.zero(n)` will return a one-dimensional numpy array with $n$ entries   \n"
      ],
      "id": "bmuz7te9AYVx"
    },
    {
      "cell_type": "code",
      "execution_count": 8,
      "metadata": {
        "id": "OmEmUJXuAYVx"
      },
      "outputs": [],
      "source": [
        "def compute_model_output(x, w, b):\n",
        "    \"\"\"\n",
        "    Computes the prediction of a linear model\n",
        "    Args:\n",
        "      x (ndarray (m,)): Data, m examples\n",
        "      w,b (scalar)    : model parameters\n",
        "    Returns\n",
        "      f_wb (ndarray (m,)): model prediction\n",
        "    \"\"\"\n",
        "    m = x.shape[0]\n",
        "    f_wb = np.zeros(m)\n",
        "    for i in range(m):\n",
        "        f_wb[i] = w * x[i] + b\n",
        "\n",
        "    return f_wb"
      ],
      "id": "OmEmUJXuAYVx"
    },
    {
      "cell_type": "markdown",
      "metadata": {
        "id": "RjFhjrwPAYVx"
      },
      "source": [
        "Now let's call the `compute_model_output` function and plot the output.."
      ],
      "id": "RjFhjrwPAYVx"
    },
    {
      "cell_type": "code",
      "execution_count": 9,
      "metadata": {
        "colab": {
          "base_uri": "https://localhost:8080/",
          "height": 472
        },
        "id": "RJpK1JgLAYVx",
        "outputId": "1a88cd36-5010-4ab6-f332-8587d98f23fc"
      },
      "outputs": [
        {
          "output_type": "display_data",
          "data": {
            "text/plain": [
              "<Figure size 640x480 with 1 Axes>"
            ],
            "image/png": "[encoded data removed]"
          },
          "metadata": {}
        }
      ],
      "source": [
        "tmp_f_wb = compute_model_output(x_train, w, b,)\n",
        "\n",
        "# Plot our model prediction\n",
        "plt.plot(x_train, tmp_f_wb, c='b',label='Our Prediction')\n",
        "\n",
        "# Plot the data points\n",
        "plt.scatter(x_train, y_train, marker='x', c='r',label='Actual Values')\n",
        "\n",
        "# Set the title\n",
        "plt.title(\"Housing Prices\")\n",
        "# Set the y-axis label\n",
        "plt.ylabel('Price (in 1000s of dollars)')\n",
        "# Set the x-axis label\n",
        "plt.xlabel('Size (1000 sqft)')\n",
        "plt.legend()\n",
        "plt.show()"
      ],
      "id": "RJpK1JgLAYVx"
    },
    {
      "cell_type": "markdown",
      "metadata": {
        "id": "tIoKo1tBAYVx"
      },
      "source": [
        "As you can see, setting $w = 100$ and $b = 100$ does *not* result in a line that fits our data.\n",
        "\n",
        "### Challenge\n",
        "Try experimenting with different values of $w$ and $b$. What should the values be for a line that fits our data?\n",
        "\n",
        "#### Tip:\n",
        "You can use your mouse to click on the green \"Hints\" below to reveal some hints for choosing b and w."
      ],
      "id": "tIoKo1tBAYVx"
    },
    {
      "cell_type": "markdown",
      "metadata": {
        "id": "5CI--VvLAYVy"
      },
      "source": [
        "<details>\n",
        "<summary>\n",
        "    <font size='3', color='darkgreen'><b>Hints</b></font>\n",
        "</summary>\n",
        "    <p>\n",
        "    <ul>\n",
        "        <li>Try $w = 200$ and $b = 100$ </li>\n",
        "    </ul>\n",
        "    </p>"
      ],
      "id": "5CI--VvLAYVy"
    },
    {
      "cell_type": "code",
      "source": [
        "w = 200\n",
        "b = 100\n",
        "# compute the y hat\n",
        "tmp_f_wb = compute_model_output(x_train,w,b)\n",
        "# plotting the prediction\n",
        "plt.plot(x_train,tmp_f_wb,c='b',label='Prediction')\n",
        "# plotting the actual values\n",
        "plt.scatter(x_train,y_train,marker='x',c='r',label='Actual values')\n",
        "# Title and labels\n",
        "plt.title(\"House Pricing\")\n",
        "plt.xlabel('Size (1000 sqft)')\n",
        "plt.ylabel('Price (1000s of dollars)')\n",
        "plt.legend()\n",
        "# plot show\n",
        "plt.show()"
      ],
      "metadata": {
        "colab": {
          "base_uri": "https://localhost:8080/",
          "height": 472
        },
        "id": "8rBjqYR4CBmk",
        "outputId": "ec1f80a6-42cc-4c29-b771-d9763d24fda0"
      },
      "id": "8rBjqYR4CBmk",
      "execution_count": 11,
      "outputs": [
        {
          "output_type": "display_data",
          "data": {
            "text/plain": [
              "<Figure size 640x480 with 1 Axes>"
            ],
            "image/png": "[encoded data removed]"
          },
          "metadata": {}
        }
      ]
    },
    {
      "cell_type": "markdown",
      "metadata": {
        "id": "IpG1fXY4AYVy"
      },
      "source": [
        "### Prediction\n",
        "Now that we have a model, we can use it to make our original prediction. Let's predict the price of a house with 1200 sqft. Since the units of $x$ are in 1000's of sqft, $x$ is 1.2.\n"
      ],
      "id": "IpG1fXY4AYVy"
    },
    {
      "cell_type": "code",
      "execution_count": 12,
      "metadata": {
        "colab": {
          "base_uri": "https://localhost:8080/"
        },
        "id": "hi_UY7jvAYVy",
        "outputId": "4a797f06-2f09-4468-85f1-3db56ab43e1e"
      },
      "outputs": [
        {
          "output_type": "stream",
          "name": "stdout",
          "text": [
            "$340 thousand dollars\n"
          ]
        }
      ],
      "source": [
        "w = 200\n",
        "b = 100\n",
        "x_i = 1.2\n",
        "cost_1200sqft = w * x_i + b\n",
        "\n",
        "print(f\"${cost_1200sqft:.0f} thousand dollars\")"
      ],
      "id": "hi_UY7jvAYVy"
    },
    {
      "cell_type": "markdown",
      "metadata": {
        "id": "yKHYUIXwAYVy"
      },
      "source": [
        "# Congratulations!\n",
        "In this lab you have learned:\n",
        " - Linear regression builds a model which establishes a relationship between features and targets\n",
        "     - In the example above, the feature was house size and the target was house price\n",
        "     - for simple linear regression, the model has two parameters $w$ and $b$ whose values are 'fit' using *training data*.\n",
        "     - once a model's parameters have been determined, the model can be used to make predictions on novel data."
      ],
      "id": "yKHYUIXwAYVy"
    },
    {
      "cell_type": "code",
      "execution_count": null,
      "metadata": {
        "id": "N_5Vs46-AYVy"
      },
      "outputs": [],
      "source": [],
      "id": "N_5Vs46-AYVy"
    }
  ],
  "metadata": {
    "kernelspec": {
      "display_name": "Python 3",
      "language": "python",
      "name": "python3"
    },
    "language_info": {
      "codemirror_mode": {
        "name": "ipython",
        "version": 3
      },
      "file_extension": ".py",
      "mimetype": "text/x-python",
      "name": "python",
      "nbconvert_exporter": "python",
      "pygments_lexer": "ipython3",
      "version": "3.7.6"
    },
    "toc-autonumbering": false,
    "colab": {
      "provenance": []
    }
  },
  "nbformat": 4,
  "nbformat_minor": 5
}